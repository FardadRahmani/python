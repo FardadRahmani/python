{
 "cells": [
  {
   "cell_type": "markdown",
   "id": "4ff12dfb-ac31-457c-ab0c-c3037213f9aa",
   "metadata": {},
   "source": [
    "## Aufgabe: Datei einlesen und visualisieren\n",
    "\n",
    "In den ersten paar Abschnitten des Kurses haben wir eine CSV-Datei eingelesen, und die Daten dann als Grafik angezeigt. In dieser Lektion möchte ich dir die Aufgabe geben, diese CSV-Datei erneut einzulesen und die Daten zu visualisieren - aber diesmal mit Pandas!\n",
    "\n",
    "Aufgabe: Lade die ../data/names.csv - Datei, und zeichne eine Grafik für den Namen \"Anna\", das Geschlecht \"F\" (female) und den Staat \"CA\". Auf der X-Achse sollen die Jahre abgetragen werden, auf der Y-Achse, wie oft der Name vergeben wurde."
   ]
  },
  {
   "cell_type": "code",
   "execution_count": 5,
   "id": "a0dcb470-443d-4748-ac5f-50047bdf08bf",
   "metadata": {},
   "outputs": [],
   "source": [
    "name = \"Anna\"\n",
    "gender = \"F\"\n",
    "state = \"CA\""
   ]
  },
  {
   "cell_type": "code",
   "execution_count": 7,
   "id": "0c946e56-9249-42b2-ac24-5f374810c91b",
   "metadata": {},
   "outputs": [
    {
     "data": {
      "text/html": [
       "<div>\n",
       "<style scoped>\n",
       "    .dataframe tbody tr th:only-of-type {\n",
       "        vertical-align: middle;\n",
       "    }\n",
       "\n",
       "    .dataframe tbody tr th {\n",
       "        vertical-align: top;\n",
       "    }\n",
       "\n",
       "    .dataframe thead th {\n",
       "        text-align: right;\n",
       "    }\n",
       "</style>\n",
       "<table border=\"1\" class=\"dataframe\">\n",
       "  <thead>\n",
       "    <tr style=\"text-align: right;\">\n",
       "      <th></th>\n",
       "      <th>Id</th>\n",
       "      <th>Name</th>\n",
       "      <th>Year</th>\n",
       "      <th>Gender</th>\n",
       "      <th>State</th>\n",
       "      <th>Count</th>\n",
       "    </tr>\n",
       "  </thead>\n",
       "  <tbody>\n",
       "    <tr>\n",
       "      <th>0</th>\n",
       "      <td>1</td>\n",
       "      <td>Mary</td>\n",
       "      <td>1910</td>\n",
       "      <td>F</td>\n",
       "      <td>AK</td>\n",
       "      <td>14</td>\n",
       "    </tr>\n",
       "    <tr>\n",
       "      <th>1</th>\n",
       "      <td>2</td>\n",
       "      <td>Annie</td>\n",
       "      <td>1910</td>\n",
       "      <td>F</td>\n",
       "      <td>AK</td>\n",
       "      <td>12</td>\n",
       "    </tr>\n",
       "    <tr>\n",
       "      <th>2</th>\n",
       "      <td>3</td>\n",
       "      <td>Anna</td>\n",
       "      <td>1910</td>\n",
       "      <td>F</td>\n",
       "      <td>AK</td>\n",
       "      <td>10</td>\n",
       "    </tr>\n",
       "    <tr>\n",
       "      <th>3</th>\n",
       "      <td>4</td>\n",
       "      <td>Margaret</td>\n",
       "      <td>1910</td>\n",
       "      <td>F</td>\n",
       "      <td>AK</td>\n",
       "      <td>8</td>\n",
       "    </tr>\n",
       "    <tr>\n",
       "      <th>4</th>\n",
       "      <td>5</td>\n",
       "      <td>Helen</td>\n",
       "      <td>1910</td>\n",
       "      <td>F</td>\n",
       "      <td>AK</td>\n",
       "      <td>7</td>\n",
       "    </tr>\n",
       "  </tbody>\n",
       "</table>\n",
       "</div>"
      ],
      "text/plain": [
       "   Id      Name  Year Gender State  Count\n",
       "0   1      Mary  1910      F    AK     14\n",
       "1   2     Annie  1910      F    AK     12\n",
       "2   3      Anna  1910      F    AK     10\n",
       "3   4  Margaret  1910      F    AK      8\n",
       "4   5     Helen  1910      F    AK      7"
      ]
     },
     "execution_count": 7,
     "metadata": {},
     "output_type": "execute_result"
    }
   ],
   "source": [
    "import pandas as pd\n",
    "\n",
    "df = pd.read_csv(\"../../data/names.csv\")\n",
    "df.head()"
   ]
  },
  {
   "cell_type": "code",
   "execution_count": 17,
   "id": "ad3dde22-8050-42d1-95e4-3c37129378da",
   "metadata": {},
   "outputs": [
    {
     "data": {
      "text/html": [
       "<div>\n",
       "<style scoped>\n",
       "    .dataframe tbody tr th:only-of-type {\n",
       "        vertical-align: middle;\n",
       "    }\n",
       "\n",
       "    .dataframe tbody tr th {\n",
       "        vertical-align: top;\n",
       "    }\n",
       "\n",
       "    .dataframe thead th {\n",
       "        text-align: right;\n",
       "    }\n",
       "</style>\n",
       "<table border=\"1\" class=\"dataframe\">\n",
       "  <thead>\n",
       "    <tr style=\"text-align: right;\">\n",
       "      <th></th>\n",
       "      <th>Id</th>\n",
       "      <th>Name</th>\n",
       "      <th>Year</th>\n",
       "      <th>Gender</th>\n",
       "      <th>State</th>\n",
       "      <th>Count</th>\n",
       "    </tr>\n",
       "  </thead>\n",
       "  <tbody>\n",
       "    <tr>\n",
       "      <th>356048</th>\n",
       "      <td>356049</td>\n",
       "      <td>Anna</td>\n",
       "      <td>1910</td>\n",
       "      <td>F</td>\n",
       "      <td>CA</td>\n",
       "      <td>51</td>\n",
       "    </tr>\n",
       "    <tr>\n",
       "      <th>356276</th>\n",
       "      <td>356277</td>\n",
       "      <td>Anna</td>\n",
       "      <td>1911</td>\n",
       "      <td>F</td>\n",
       "      <td>CA</td>\n",
       "      <td>57</td>\n",
       "    </tr>\n",
       "    <tr>\n",
       "      <th>356528</th>\n",
       "      <td>356529</td>\n",
       "      <td>Anna</td>\n",
       "      <td>1912</td>\n",
       "      <td>F</td>\n",
       "      <td>CA</td>\n",
       "      <td>76</td>\n",
       "    </tr>\n",
       "    <tr>\n",
       "      <th>356835</th>\n",
       "      <td>356836</td>\n",
       "      <td>Anna</td>\n",
       "      <td>1913</td>\n",
       "      <td>F</td>\n",
       "      <td>CA</td>\n",
       "      <td>86</td>\n",
       "    </tr>\n",
       "    <tr>\n",
       "      <th>357172</th>\n",
       "      <td>357173</td>\n",
       "      <td>Anna</td>\n",
       "      <td>1914</td>\n",
       "      <td>F</td>\n",
       "      <td>CA</td>\n",
       "      <td>95</td>\n",
       "    </tr>\n",
       "  </tbody>\n",
       "</table>\n",
       "</div>"
      ],
      "text/plain": [
       "            Id  Name  Year Gender State  Count\n",
       "356048  356049  Anna  1910      F    CA     51\n",
       "356276  356277  Anna  1911      F    CA     57\n",
       "356528  356529  Anna  1912      F    CA     76\n",
       "356835  356836  Anna  1913      F    CA     86\n",
       "357172  357173  Anna  1914      F    CA     95"
      ]
     },
     "execution_count": 17,
     "metadata": {},
     "output_type": "execute_result"
    }
   ],
   "source": [
    "df2 = df[df[\"Name\"]==name]#filtere df nach Name\n",
    "df3= df2[df2[\"Gender\"]==gender]#filtere df2 nach gender\n",
    "df4= df3[df3[\"State\"]==state]\n",
    "\n",
    "#ist zwar schon sortiert aber zur sicherheit:\n",
    "df5= df4.sort_values(\"Year\")\n",
    "df5.head()"
   ]
  },
  {
   "cell_type": "code",
   "execution_count": 11,
   "id": "6d5805f6-2218-4c1f-ab10-0748a887070a",
   "metadata": {},
   "outputs": [],
   "source": [
    "%matplotlib inline\n",
    "import matplotlib.pyplot as plt"
   ]
  },
  {
   "cell_type": "code",
   "execution_count": 19,
   "id": "aa4508fb-3f70-40cc-8760-a95c87db85f0",
   "metadata": {},
   "outputs": [
    {
     "data": {
      "image/png": "[encoded data removed]",
      "text/plain": [
       "<Figure size 640x480 with 1 Axes>"
      ]
     },
     "metadata": {},
     "output_type": "display_data"
    }
   ],
   "source": [
    "plt.plot(df5[\"Year\"], df5[\"Count\"])\n",
    "plt.show()"
   ]
  },
  {
   "cell_type": "code",
   "execution_count": null,
   "id": "5094e4f3-1a14-4681-a97c-1638fbc55197",
   "metadata": {},
   "outputs": [],
   "source": []
  }
 ],
 "metadata": {
  "kernelspec": {
   "display_name": "Python 3 (ipykernel)",
   "language": "python",
   "name": "python3"
  },
  "language_info": {
   "codemirror_mode": {
    "name": "ipython",
    "version": 3
   },
   "file_extension": ".py",
   "mimetype": "text/x-python",
   "name": "python",
   "nbconvert_exporter": "python",
   "pygments_lexer": "ipython3",
   "version": "3.12.3"
  }
 },
 "nbformat": 4,
 "nbformat_minor": 5
}
