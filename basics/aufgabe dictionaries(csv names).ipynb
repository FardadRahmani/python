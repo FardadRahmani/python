{
 "cells": [
  {
   "cell_type": "code",
   "execution_count": 12,
   "id": "fe1b4e89-470a-4120-9cfc-0ba1f457cb83",
   "metadata": {},
   "outputs": [],
   "source": [
    "#Ich will mehrere bestimmte Sachen aus der csv anzeigen:\n",
    "d= {}\n",
    "\n",
    "name = \"Max\"\n",
    "amount= 0\n",
    "\n",
    "\n",
    "with open(\"data/names.csv\", \"r\") as file:\n",
    "    \n",
    "    for line in file:\n",
    "                \n",
    "        lineSplittedAsList = line.strip().split(\",\")\n",
    "        if lineSplittedAsList[2] == \"Year\":\n",
    "            continue\n",
    "        \n",
    "        name= lineSplittedAsList[1]\n",
    "        amount= int(lineSplittedAsList[5])\n",
    "        if name in d:\n",
    "            d[name] = d[name] + amount\n",
    "        else:\n",
    "            d[name] = amount\n",
    "\n",
    "\n",
    "\n",
    "            \n",
    "# 12345,Anna,1910,F,CA,999\n",
    "# 32345,Anna,1911,F,CA,555"
   ]
  },
  {
   "cell_type": "code",
   "execution_count": 18,
   "id": "2e39014c-c7ce-494d-962e-2b2aab62126c",
   "metadata": {},
   "outputs": [
    {
     "name": "stdout",
     "output_type": "stream",
     "text": [
      "James\n",
      "4957166\n"
     ]
    }
   ],
   "source": [
    "max_occurences= 0\n",
    "name= \"\"\n",
    "\n",
    "for key, value in d.items():\n",
    "    if max_occurences < value:\n",
    "        max_occurences= value\n",
    "        name= key\n",
    "\n",
    "print(name)\n",
    "print(max_occurences)"
   ]
  },
  {
   "cell_type": "code",
   "execution_count": null,
   "id": "4454e56e-078f-4804-84fc-ff4c6a76f334",
   "metadata": {},
   "outputs": [],
   "source": []
  }
 ],
 "metadata": {
  "kernelspec": {
   "display_name": "Python 3 (ipykernel)",
   "language": "python",
   "name": "python3"
  },
  "language_info": {
   "codemirror_mode": {
    "name": "ipython",
    "version": 3
   },
   "file_extension": ".py",
   "mimetype": "text/x-python",
   "name": "python",
   "nbconvert_exporter": "python",
   "pygments_lexer": "ipython3",
   "version": "3.12.4"
  }
 },
 "nbformat": 4,
 "nbformat_minor": 5
}
