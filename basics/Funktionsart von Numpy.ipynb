{
 "cells": [
  {
   "cell_type": "code",
   "execution_count": 5,
   "id": "7a3bd746-10b5-4e53-ba02-b1c18051ad5a",
   "metadata": {},
   "outputs": [
    {
     "name": "stdout",
     "output_type": "stream",
     "text": [
      "[2 4 6]\n"
     ]
    }
   ],
   "source": [
    "import numpy as np\n",
    "\n",
    "a = np.array([1, 2, 3])\n",
    "print(a * 2)\n",
    "#was passiert intern, dass 2, 4, 6 rauskommt"
   ]
  },
  {
   "cell_type": "code",
   "execution_count": 7,
   "id": "afbe7128-edc1-47de-9f40-bb9968873823",
   "metadata": {},
   "outputs": [
    {
     "name": "stdout",
     "output_type": "stream",
     "text": [
      "[1 4 9]\n",
      "1\n"
     ]
    }
   ],
   "source": [
    "#oder:\n",
    "print(a ** 2)\n",
    "\n",
    "print(a[0])"
   ]
  },
  {
   "cell_type": "markdown",
   "id": "24e9cf34-9e8d-40eb-8a1c-1aaae552131c",
   "metadata": {},
   "source": [
    "### Hintergrund-Erklärung"
   ]
  },
  {
   "cell_type": "code",
   "execution_count": 14,
   "id": "2cddfe38-958e-4bb8-92bc-29c13fb298b2",
   "metadata": {},
   "outputs": [
    {
     "name": "stdout",
     "output_type": "stream",
     "text": [
      "[1, 2, 3]\n"
     ]
    }
   ],
   "source": [
    "class MyArray():\n",
    "    # im Constructor übergeben wir lediglich die Liste\n",
    "    def __init__(self, liste):\n",
    "        self.liste = liste\n",
    "\n",
    "\n",
    "a = MyArray([1, 2, 3])\n",
    "\n",
    "print(a.liste)"
   ]
  },
  {
   "cell_type": "code",
   "execution_count": 18,
   "id": "ab0da6be-deef-4a09-aa5b-f9f33e2843aa",
   "metadata": {},
   "outputs": [
    {
     "ename": "TypeError",
     "evalue": "unsupported operand type(s) for *: 'MyArray' and 'int'",
     "output_type": "error",
     "traceback": [
      "\u001b[1;31m---------------------------------------------------------------------------\u001b[0m",
      "\u001b[1;31mTypeError\u001b[0m                                 Traceback (most recent call last)",
      "Cell \u001b[1;32mIn[18], line 2\u001b[0m\n\u001b[0;32m      1\u001b[0m \u001b[38;5;66;03m#nun will ich hierzu in der Lage sein:\u001b[39;00m\n\u001b[1;32m----> 2\u001b[0m b \u001b[38;5;241m=\u001b[39m a\u001b[38;5;241m*\u001b[39m\u001b[38;5;241m2\u001b[39m\n",
      "\u001b[1;31mTypeError\u001b[0m: unsupported operand type(s) for *: 'MyArray' and 'int'"
     ]
    }
   ],
   "source": [
    "#nun will ich hierzu in der Lage sein:\n",
    "b = a*2"
   ]
  },
  {
   "cell_type": "markdown",
   "id": "0e00fa88-0541-4093-990b-8e8c78edcd1f",
   "metadata": {},
   "source": [
    "### Numpy Funktionen aufbauen"
   ]
  },
  {
   "cell_type": "code",
   "execution_count": 37,
   "id": "cdc6cebe-e5fc-4f4c-bab3-9a79ff9ba03f",
   "metadata": {},
   "outputs": [
    {
     "name": "stdout",
     "output_type": "stream",
     "text": [
      "[[2, 4, 6]]\n",
      "[[2, 4, 6]]\n"
     ]
    }
   ],
   "source": [
    "class MyArray():\n",
    "    # im Constructor übergeben wir lediglich die Liste\n",
    "    def __init__(self, liste):\n",
    "        self.liste = liste\n",
    "\n",
    "    def __mul__(self, other):\n",
    "        nliste=[]\n",
    "        for element in self.liste:\n",
    "            nliste.append(element*other)\n",
    "        return MyArray([nliste])\n",
    "\n",
    "\n",
    "a = MyArray([1, 2, 3])\n",
    "\n",
    "b = a.__mul__(2)\n",
    "print(b.liste)#tadaaaaa\n",
    "\n",
    "c = a * 2 #dies funktioniert ebenso: \"*\" wird ersetzt intern durch \"__mul__\"\n",
    "print(c.liste)"
   ]
  },
  {
   "cell_type": "code",
   "execution_count": null,
   "id": "96df9657-c091-4879-b080-f91f3899c7d5",
   "metadata": {},
   "outputs": [],
   "source": []
  }
 ],
 "metadata": {
  "kernelspec": {
   "display_name": "Python 3 (ipykernel)",
   "language": "python",
   "name": "python3"
  },
  "language_info": {
   "codemirror_mode": {
    "name": "ipython",
    "version": 3
   },
   "file_extension": ".py",
   "mimetype": "text/x-python",
   "name": "python",
   "nbconvert_exporter": "python",
   "pygments_lexer": "ipython3",
   "version": "3.12.3"
  }
 },
 "nbformat": 4,
 "nbformat_minor": 5
}
