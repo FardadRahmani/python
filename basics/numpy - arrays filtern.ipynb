{
 "cells": [
  {
   "cell_type": "markdown",
   "id": "ab9ebbbc-526c-4f12-84a4-b777d70385be",
   "metadata": {},
   "source": [
    "## Numpy: Arrays filtern\n",
    "\n",
    "In dieser Lektion lernst du:\n",
    "\n",
    "- Wie du `Numpy` - Arrays filtern kannst"
   ]
  },
  {
   "cell_type": "code",
   "execution_count": 10,
   "id": "cdf9f192-a0aa-428f-8098-ae1adfe76fdc",
   "metadata": {},
   "outputs": [],
   "source": [
    "import numpy as np"
   ]
  },
  {
   "cell_type": "code",
   "execution_count": 12,
   "id": "e8e51243-f276-4326-8fba-139c9e7d8885",
   "metadata": {},
   "outputs": [
    {
     "name": "stdout",
     "output_type": "stream",
     "text": [
      "[1 2 3 4]\n"
     ]
    }
   ],
   "source": [
    "a = np.array([1, 2, 3, 4])\n",
    "print(a)"
   ]
  },
  {
   "cell_type": "code",
   "execution_count": 14,
   "id": "0b5f54e8-59ba-41c1-bdbb-e1a3aa0d34ec",
   "metadata": {},
   "outputs": [
    {
     "name": "stdout",
     "output_type": "stream",
     "text": [
      "[False  True  True False]\n"
     ]
    }
   ],
   "source": [
    "b = np.array([False, True, True, False])\n",
    "print(b)"
   ]
  },
  {
   "cell_type": "markdown",
   "id": "9ce889ed-ac71-4e0e-9de2-514fdb393e87",
   "metadata": {},
   "source": [
    "Mithilfe der `[ ]-Schreibweise`, die du schon vom _Zugriff auf Listen_ und vom _list slicing_ her kennst, können wir ein Numpy-Array einem anderen Numpy-Array übergeben, das dann gefiltert wird:"
   ]
  },
  {
   "cell_type": "code",
   "execution_count": 21,
   "id": "ab9db763-9260-4f2b-938e-9680278daa6d",
   "metadata": {},
   "outputs": [
    {
     "data": {
      "text/plain": [
       "array([2, 3])"
      ]
     },
     "execution_count": 21,
     "metadata": {},
     "output_type": "execute_result"
    }
   ],
   "source": [
    "a[b]\n",
    "#filtere array a nach b (gib nur die Positionen zurück die ein True enthalten quasi: 2 und 3 also)"
   ]
  },
  {
   "cell_type": "code",
   "execution_count": 23,
   "id": "d89d4970-9a52-42d3-b80e-07c1392e8987",
   "metadata": {},
   "outputs": [
    {
     "data": {
      "text/plain": [
       "array([1, 2, 3, 4])"
      ]
     },
     "execution_count": 23,
     "metadata": {},
     "output_type": "execute_result"
    }
   ],
   "source": [
    "a"
   ]
  },
  {
   "cell_type": "code",
   "execution_count": 25,
   "id": "86becc79-c5f1-4d30-b3f6-c273ae7980e7",
   "metadata": {},
   "outputs": [
    {
     "data": {
      "text/plain": [
       "array([False, False,  True,  True])"
      ]
     },
     "execution_count": 25,
     "metadata": {},
     "output_type": "execute_result"
    }
   ],
   "source": [
    "a >=3"
   ]
  },
  {
   "cell_type": "code",
   "execution_count": 27,
   "id": "b2f53e96-6607-4d54-9a27-f2e1cb81b453",
   "metadata": {},
   "outputs": [
    {
     "data": {
      "text/plain": [
       "array([3, 4])"
      ]
     },
     "execution_count": 27,
     "metadata": {},
     "output_type": "execute_result"
    }
   ],
   "source": [
    "a [a>=3]"
   ]
  },
  {
   "cell_type": "code",
   "execution_count": 33,
   "id": "57ed7b9c-3c2f-4b3f-af1b-d4ea9f8ceddf",
   "metadata": {},
   "outputs": [
    {
     "name": "stdout",
     "output_type": "stream",
     "text": [
      "[False False  True  True]\n",
      "[3 4]\n"
     ]
    }
   ],
   "source": [
    "#oder sauberer so:\n",
    "c = a>=3\n",
    "print(c)\n",
    "print(a[c])"
   ]
  },
  {
   "cell_type": "code",
   "execution_count": 35,
   "id": "f39318cf-383c-4872-aa46-711303969fc1",
   "metadata": {},
   "outputs": [
    {
     "name": "stdout",
     "output_type": "stream",
     "text": [
      "[3 4]\n"
     ]
    }
   ],
   "source": [
    "print (a [a>=3])"
   ]
  },
  {
   "cell_type": "code",
   "execution_count": null,
   "id": "5c489723-6cc4-4ccf-bbfa-dda0e6e7abdc",
   "metadata": {},
   "outputs": [],
   "source": []
  }
 ],
 "metadata": {
  "kernelspec": {
   "display_name": "Python 3 (ipykernel)",
   "language": "python",
   "name": "python3"
  },
  "language_info": {
   "codemirror_mode": {
    "name": "ipython",
    "version": 3
   },
   "file_extension": ".py",
   "mimetype": "text/x-python",
   "name": "python",
   "nbconvert_exporter": "python",
   "pygments_lexer": "ipython3",
   "version": "3.12.3"
  }
 },
 "nbformat": 4,
 "nbformat_minor": 5
}
