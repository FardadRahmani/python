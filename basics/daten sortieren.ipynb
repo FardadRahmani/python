{
 "cells": [
  {
   "cell_type": "code",
   "execution_count": 1,
   "id": "ab9076c2-3b5b-49c8-842c-805b3e2985ca",
   "metadata": {},
   "outputs": [
    {
     "name": "stdout",
     "output_type": "stream",
     "text": [
      "['Erik', 'Franziska', 'Max', 'Monika']\n"
     ]
    }
   ],
   "source": [
    "l = [\"Max\", \"Monika\", \"Erik\", \"Franziska\"]\n",
    "l.sort()\n",
    "print(l)"
   ]
  },
  {
   "cell_type": "code",
   "execution_count": 3,
   "id": "086c58f8-05f8-4f1d-8f6b-1b82289c0af9",
   "metadata": {},
   "outputs": [
    {
     "name": "stdout",
     "output_type": "stream",
     "text": [
      "['Monika', 'Max', 'Franziska', 'Erik']\n"
     ]
    }
   ],
   "source": [
    "l = [\"Max\", \"Monika\", \"Erik\", \"Franziska\"]\n",
    "l.sort(reverse=True)\n",
    "print(l)"
   ]
  },
  {
   "cell_type": "code",
   "execution_count": 7,
   "id": "5894a2f2-96a8-4ce5-b54a-70e1e32fc2d0",
   "metadata": {},
   "outputs": [
    {
     "name": "stdout",
     "output_type": "stream",
     "text": [
      "['Max', 'Erik', 'Monika', 'Franziska']\n"
     ]
    }
   ],
   "source": [
    "def get_length(item):\n",
    "    return len(item)\n",
    "l = [\"Max\", \"Monika\", \"Erik\", \"Franziska\"]\n",
    "l.sort(key=get_length)#Fkt als Parameter übergeben(lambda), sonst würde er es ausführen und das return der var key zuweisen!\n",
    "print(l)"
   ]
  },
  {
   "cell_type": "markdown",
   "id": "93a5c7fe-ab44-4f0c-8881-94c84cd5a922",
   "metadata": {},
   "source": [
    "#### len selbst ist ja auch eine Fkt"
   ]
  },
  {
   "cell_type": "code",
   "execution_count": 9,
   "id": "52b218b1-7489-4731-9305-ba32aafac28d",
   "metadata": {},
   "outputs": [
    {
     "name": "stdout",
     "output_type": "stream",
     "text": [
      "['Max', 'Erik', 'Monika', 'Franziska']\n"
     ]
    }
   ],
   "source": [
    "\n",
    "l = [\"Max\", \"Monika\", \"Erik\", \"Franziska\"]\n",
    "l.sort(key=len)#Fkt als Parameter übergeben(lambda), sonst würde er es ausführen und das return der var key zuweisen!\n",
    "print(l)"
   ]
  },
  {
   "cell_type": "markdown",
   "id": "8739ca0a-7a1c-4dd1-9d52-f987f405d543",
   "metadata": {},
   "source": [
    "#### Daten sind aber nicht immer eine Liste!"
   ]
  },
  {
   "cell_type": "code",
   "execution_count": 18,
   "id": "b7a60dfb-efc7-4e89-92c5-fbdcac4085c5",
   "metadata": {},
   "outputs": [
    {
     "name": "stdout",
     "output_type": "stream",
     "text": [
      "['Budapest', 'Saigon', 'Köln']\n"
     ]
    }
   ],
   "source": [
    "d = {\"Köln\": \"CGN\", \"Budapest\": \"BUD\", \"Saigon\": \"SGN\"}\n",
    "\n",
    "print(sorted(d, reverse = True, key=len))\n",
    "#anders wie sort() die KlassenunterFkt von List ist, sortiert sorted() das d nicht um, sondern nur für ausgabe!"
   ]
  },
  {
   "cell_type": "code",
   "execution_count": 20,
   "id": "6ade2c62-5ca1-4fc6-ab66-794276ae2fca",
   "metadata": {},
   "outputs": [
    {
     "name": "stdout",
     "output_type": "stream",
     "text": [
      "['Erik', 'Franziska', 'Max', 'Monika']\n",
      "['Max', 'Monika', 'Erik', 'Franziska']\n"
     ]
    }
   ],
   "source": [
    "#anders wie sort() die KlassenunterFkt von List ist, sortiert sorted() das d nicht um, sondern nur für ausgabe!:\n",
    "\n",
    "l = [\"Max\", \"Monika\", \"Erik\", \"Franziska\"]\n",
    "l.sort()\n",
    "print(l)\n",
    "\n",
    "l2 = [\"Max\", \"Monika\", \"Erik\", \"Franziska\"]\n",
    "sorted(l2)\n",
    "print(l2)\n"
   ]
  },
  {
   "cell_type": "code",
   "execution_count": 24,
   "id": "288e53a5-6e23-47c6-9f9f-6013caba248f",
   "metadata": {},
   "outputs": [
    {
     "name": "stdout",
     "output_type": "stream",
     "text": [
      "['Max', 'Monika', 'Erik', 'Franziska']\n",
      "['Erik', 'Franziska', 'Max', 'Monika']\n"
     ]
    }
   ],
   "source": [
    "#die ausgabe kannst du allerdings in neuer Var abfangen!:\n",
    "\n",
    "l = [\"Max\", \"Monika\", \"Erik\", \"Franziska\"]\n",
    "l2 = sorted(l)\n",
    "print(l)\n",
    "print(l2)"
   ]
  },
  {
   "cell_type": "code",
   "execution_count": null,
   "id": "d66db573-4330-4ae4-a521-76a94785f2ee",
   "metadata": {},
   "outputs": [],
   "source": []
  }
 ],
 "metadata": {
  "kernelspec": {
   "display_name": "Python 3 (ipykernel)",
   "language": "python",
   "name": "python3"
  },
  "language_info": {
   "codemirror_mode": {
    "name": "ipython",
    "version": 3
   },
   "file_extension": ".py",
   "mimetype": "text/x-python",
   "name": "python",
   "nbconvert_exporter": "python",
   "pygments_lexer": "ipython3",
   "version": "3.12.4"
  }
 },
 "nbformat": 4,
 "nbformat_minor": 5
}
