{
 "cells": [
  {
   "cell_type": "markdown",
   "id": "21539102-44f1-4472-9ab8-7b2ec8e8f7d2",
   "metadata": {},
   "source": [
    "### Aufgabe 1\r\n",
    "Vervollständige die Funktion shortest_word(): Ihr sollen mehrere Strings übergeben werden (KEINE Liste von Strings!), von denen sie den String mit den wenigsten Zeichen zurückliefert.\r\n",
    "\r\n",
    "Hinweis: Benutze variable Parameter (mit Sternchen * oder doppelten Sternche **)!"
   ]
  },
  {
   "cell_type": "code",
   "execution_count": 4,
   "id": "ee124bd4-6a02-4510-be13-6a848d7444e0",
   "metadata": {},
   "outputs": [
    {
     "name": "stdout",
     "output_type": "stream",
     "text": [
      "Jo\n"
     ]
    }
   ],
   "source": [
    "def shortest_word(*params):\n",
    "    # Ersetze pass durch deinen Code\n",
    "    current_shortest= params[0]\n",
    "    for word in params:\n",
    "        if len(word) < len(current_shortest):\n",
    "            current_shortest= word\n",
    "\n",
    "    return current_shortest\n",
    "            \n",
    "    \n",
    "print(shortest_word(\"Max\", \"Moritz\", \"Monika\", \"Tim\", \"Jo\"))"
   ]
  },
  {
   "cell_type": "code",
   "execution_count": 8,
   "id": "45006052-6b51-420e-9152-c770e5717d8e",
   "metadata": {},
   "outputs": [
    {
     "name": "stdout",
     "output_type": "stream",
     "text": [
      "Jo\n"
     ]
    }
   ],
   "source": [
    "def shortest_word(*params):\n",
    "    # Ersetze pass durch deinen Code\n",
    "    current_shortest= params[0]\n",
    "    for word in params:\n",
    "        if len(word) < len(current_shortest):\n",
    "            current_shortest= word\n",
    "\n",
    "    return current_shortest\n",
    "\n",
    "l= [\"Max\", \"Moritz\", \"Monika\", \"Tim\", \"Jo\"]\n",
    "    \n",
    "print(shortest_word(*l))"
   ]
  },
  {
   "cell_type": "markdown",
   "id": "bc297223-e435-4c28-9d8e-db3efe7310cc",
   "metadata": {},
   "source": [
    "### Aufgabe 2\n",
    "### a.)\r\n",
    "\r\n",
    "Sortiere die Tupel in der Liste tupels aufsteigend nach ihrer Summe!\r\n",
    "\r\n",
    "Hinweis: Schreibe dazu zuerst eine normale Funktion und löse die Aufgabe anschließend nochmal mit einer lambda-Funktion."
   ]
  },
  {
   "cell_type": "code",
   "execution_count": 29,
   "id": "fdd5b634-f73d-4db4-b8fb-16625480b45a",
   "metadata": {},
   "outputs": [
    {
     "name": "stdout",
     "output_type": "stream",
     "text": [
      "[12, 5, 17, 6, 12, 14]\n",
      "[5, 6, 12, 12, 14, 17]\n"
     ]
    }
   ],
   "source": [
    "tupels = [(10, 2), (4, 1), (0, 17), (3, 3), (5, 7), (11, 3)]\n",
    "\n",
    "def sum_tupel(tup):\n",
    "    list=[]\n",
    "    count=0\n",
    "    for num1, num2 in tup:\n",
    "        list.append(num1+num2)\n",
    "        count += 1\n",
    "\n",
    "    \n",
    "    return list\n",
    "# hier kommt dein Code hin\n",
    "my_list=sum_tupel(tupels)\n",
    "\n",
    "print(my_list)\n",
    "my_list.sort()\n",
    "print(my_list)"
   ]
  },
  {
   "cell_type": "code",
   "execution_count": 31,
   "id": "1c3bf0a9-1563-4c5a-824c-a224425cab50",
   "metadata": {},
   "outputs": [],
   "source": [
    "tupels = [(10, 2), (4, 1), (0, 17), (3, 3), (5, 7), (11, 3)]\n",
    "tupels.sort(key=lambda student: student[0]+student[0])#InlineFkt wird direkt hier definiert:"
   ]
  },
  {
   "cell_type": "code",
   "execution_count": 35,
   "id": "b823e2ef-b516-4c54-bcdd-d5b429e678e4",
   "metadata": {},
   "outputs": [
    {
     "name": "stdout",
     "output_type": "stream",
     "text": [
      "[(4, 1), (3, 3), (10, 2), (5, 7), (11, 3), (0, 17)]\n"
     ]
    }
   ],
   "source": [
    "tupels = [(10, 2), (4, 1), (0, 17), (3, 3), (5, 7), (11, 3)]\n",
    "\n",
    "def tupels_sort(tup):\n",
    "    return tup[0] + tup[1]\n",
    "\n",
    "tupels.sort(key = tupels_sort)\n",
    "\n",
    "print(tupels)"
   ]
  },
  {
   "cell_type": "code",
   "execution_count": 37,
   "id": "b591b2f5-0945-47c1-929e-697d464395f8",
   "metadata": {},
   "outputs": [
    {
     "name": "stdout",
     "output_type": "stream",
     "text": [
      "[(4, 1), (3, 3), (10, 2), (5, 7), (11, 3), (0, 17)]\n"
     ]
    }
   ],
   "source": [
    "tupels = [(10, 2), (4, 1), (0, 17), (3, 3), (5, 7), (11, 3)]\n",
    "\n",
    "\n",
    "tupels.sort(key = lambda tup: tup[0] + tup[1])\n",
    "\n",
    "print(tupels)"
   ]
  },
  {
   "cell_type": "markdown",
   "id": "8bc39e6f-6eae-4725-b1b4-0cf7cc526295",
   "metadata": {},
   "source": [
    "### b.)\r\n",
    "\r\n",
    "Sortiere die Liste names mit Namen nach dem Nachnamen. Du kannst annehmen, dass alle Namen in der Liste nur einen Vornamen enthalten. Das Format der Namen ist immer \"Vorname Nachname\".\r\n",
    "\r\n",
    "Überlege dir dazu zuerst, wie du den Nachnamen ermittelst und schreibe dann die entsprechende Funktion, die du der .sort()- Funktion übergibst.\r\n",
    "\r\n",
    "Hinweis: Schreibe dazu zuerst eine normale Funktion und löse die Aufgabe anschließend nochmal mit einer lambda-Funktion.ktion."
   ]
  },
  {
   "cell_type": "code",
   "execution_count": 43,
   "id": "37c43688-8e98-4033-9da4-c0ab9472bc17",
   "metadata": {},
   "outputs": [
    {
     "name": "stdout",
     "output_type": "stream",
     "text": [
      "['Anton Adel', 'Anna Boa', 'Conny Coder', 'Willy Cordes', 'Elif Else', 'Sebastian Klarnamen', 'Anne Wortmann']\n"
     ]
    }
   ],
   "source": [
    "names = [\"Elif Else\", \"Sebastian Klarnamen\", \"Anna Boa\", \"Anton Adel\", \"Conny Coder\", \"Anne Wortmann\", \"Willy Cordes\"]\n",
    "\n",
    "# hier kommt dein Code hin\n",
    "def list_sort(list):\n",
    "    return list.split(\" \")[1]\n",
    "\n",
    "names.sort(key=list_sort)\n",
    "print(names)"
   ]
  },
  {
   "cell_type": "code",
   "execution_count": 45,
   "id": "7da545fe-7fe6-4df3-b15a-23302cda5311",
   "metadata": {},
   "outputs": [
    {
     "name": "stdout",
     "output_type": "stream",
     "text": [
      "['Anton Adel', 'Anna Boa', 'Conny Coder', 'Willy Cordes', 'Elif Else', 'Sebastian Klarnamen', 'Anne Wortmann']\n"
     ]
    }
   ],
   "source": [
    "names = [\"Elif Else\", \"Sebastian Klarnamen\", \"Anna Boa\", \"Anton Adel\", \"Conny Coder\", \"Anne Wortmann\", \"Willy Cordes\"]\n",
    "\n",
    "\n",
    "\n",
    "names.sort(key=lambda list: list.split(\" \")[1])\n",
    "print(names)"
   ]
  },
  {
   "cell_type": "markdown",
   "id": "8f2e819a-ca6a-47aa-a79f-ab766779a430",
   "metadata": {},
   "source": [
    "### c.)\r\n",
    "\r\n",
    "Sortiere die Liste sentences absteigend nach der Anzahl der Wörter, die ein Element aus sentences jeweils enthält. Du kannst annehmen, dass in den Sätzen alle Wörter ordnungsgemäß mit Leerzeichen voneinander getrennt sind. :-)\r\n",
    "\r\n",
    "Überlege dir dazu zuerst, wie du die Anzahl Wörter in einem Satz ermitteln kannst.\r\n",
    "\r\n",
    "Hinweis: Schreibe dazu zuerst eine normale Funktion und löse die Aufgabe anschließend nochmal mit einer lambda-Funktion."
   ]
  },
  {
   "cell_type": "code",
   "execution_count": 70,
   "id": "6f673c0a-fb98-4395-a6db-bf3398c3591b",
   "metadata": {},
   "outputs": [
    {
     "name": "stdout",
     "output_type": "stream",
     "text": [
      "['Sie lachte.', 'Er rutschte aus.', 'Der Hund bellte laut.', 'Sie liefen weiter den Strand entlang.']\n"
     ]
    }
   ],
   "source": [
    "import re\n",
    "sentences = [\"Sie liefen weiter den Strand entlang.\", \"Der Hund bellte laut.\", \"Er rutschte aus.\", \"Sie lachte.\"]\n",
    "\n",
    "# hier kommt dein Code hin\n",
    "def wort_anzahl(list):\n",
    "    return len(re.findall(\" \", list))\n",
    "    \n",
    "sentences.sort(key=wort_anzahl)\n",
    "print(sentences)"
   ]
  },
  {
   "cell_type": "code",
   "execution_count": 72,
   "id": "908ccc8c-f7d9-4f1a-b426-c735234a142e",
   "metadata": {},
   "outputs": [
    {
     "name": "stdout",
     "output_type": "stream",
     "text": [
      "['Sie lachte.', 'Er rutschte aus.', 'Der Hund bellte laut.', 'Sie liefen weiter den Strand entlang.']\n"
     ]
    }
   ],
   "source": [
    "import re\n",
    "sentences = [\"Sie liefen weiter den Strand entlang.\", \"Der Hund bellte laut.\", \"Er rutschte aus.\", \"Sie lachte.\"]\n",
    "\n",
    "\n",
    "    \n",
    "sentences.sort(key=lambda list: len(re.findall(\" \", list)))\n",
    "print(sentences)"
   ]
  },
  {
   "cell_type": "code",
   "execution_count": 68,
   "id": "8f67cddb-73af-4cc0-a16a-c41d7959e69b",
   "metadata": {},
   "outputs": [
    {
     "name": "stdout",
     "output_type": "stream",
     "text": [
      "4\n"
     ]
    }
   ],
   "source": [
    "import re\n",
    "satz=\"ich bin ein Dummkopf und\"\n",
    "print(len(re.findall(\" \", satz)))\n"
   ]
  },
  {
   "cell_type": "markdown",
   "id": "6c788097-d783-4503-a027-5be029883793",
   "metadata": {},
   "source": [
    "### Zusatzaufgabe (schwer)\r\n",
    "Verändere den folgenden Code so, dass die Liste l nicht mehr innerhalb der Funktion make_row() überschrieben wird. Die Liste, die make_row() ausgibt, soll also identisch mit der bisherigen sein. l soll aber am Ende in seiner ursprünglichen Form ausgegeben werden"
   ]
  },
  {
   "cell_type": "code",
   "execution_count": 79,
   "id": "518a9a52-7fb4-418d-9a75-ea48d83efc77",
   "metadata": {},
   "outputs": [
    {
     "name": "stdout",
     "output_type": "stream",
     "text": [
      "['o', 'x', 'x']\n",
      "['o', 'x', 'o']\n"
     ]
    }
   ],
   "source": [
    "l = [\"o\", \"x\", \"o\"]\n",
    "\n",
    "def make_row(row):\n",
    "    # hier kommt dein Code hin\n",
    "    row= [\"o\", \"x\", \"x\"]\n",
    "    print(row)\n",
    "    \n",
    "make_row(l)\n",
    "print(l)"
   ]
  },
  {
   "cell_type": "code",
   "execution_count": null,
   "id": "71aff000-2164-4be1-a09d-9d5f067b444a",
   "metadata": {},
   "outputs": [],
   "source": []
  }
 ],
 "metadata": {
  "kernelspec": {
   "display_name": "Python 3 (ipykernel)",
   "language": "python",
   "name": "python3"
  },
  "language_info": {
   "codemirror_mode": {
    "name": "ipython",
    "version": 3
   },
   "file_extension": ".py",
   "mimetype": "text/x-python",
   "name": "python",
   "nbconvert_exporter": "python",
   "pygments_lexer": "ipython3",
   "version": "3.12.4"
  }
 },
 "nbformat": 4,
 "nbformat_minor": 5
}
