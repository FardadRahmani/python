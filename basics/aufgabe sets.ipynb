{
 "cells": [
  {
   "cell_type": "markdown",
   "id": "8c3af136-bd98-4f7a-9605-82aefadef974",
   "metadata": {},
   "source": [
    "\n",
    "### Aufgabe: Sets\n",
    "Den Umgang mit einem Set möchten wir jetzt natürlich etwas üben. ;-)\n",
    "\n",
    "Aufgabe:\n",
    "\n",
    "Öffne die ../data/names.csv - Datei als .csv-Datei und berechne die Anzahl der verschiedenen Vornamen, die in dieser Datei aufgelistet sind!\n",
    "\n",
    "Tipps:\n",
    "\n",
    "Die Dokumentation zum csv-Modul von Python findest du hier: https://docs.python.org/3.6/library/csv.html.\n",
    "Verwende dazu ein Set. Damit geht das ganze ziemlich easy. :-)"
   ]
  },
  {
   "cell_type": "code",
   "execution_count": 3,
   "id": "76dc20b0-2703-415a-9d66-d27883b7fe7d",
   "metadata": {},
   "outputs": [
    {
     "name": "stdout",
     "output_type": "stream",
     "text": [
      "30273\n",
      "Bionca\n",
      "Leialoha\n",
      "Kasean\n",
      "Callen\n",
      "Hipolito\n",
      "Threasa\n",
      "Sreya\n",
      "Debanhy\n",
      "Eva\n",
      "Egypt\n",
      "Sadako\n",
      "Liberty\n",
      "Athyna\n",
      "Rubi\n",
      "Suleyma\n",
      "Abdou\n",
      "Chanise\n",
      "Yanet\n",
      "Pearlie\n",
      "Kaylon\n"
     ]
    }
   ],
   "source": [
    "import csv\n",
    "s=set()\n",
    "list_as_string= \"\"\n",
    "with open('../../data/names.csv', newline='') as file:\n",
    "    csv_file = csv.reader(file, delimiter=\";\", quotechar= '\"')\n",
    "    for line in csv_file: \n",
    "        list_as_string= ', '.join(line)\n",
    "        data = list_as_string.split(\",\")\n",
    "        if data[1] == \"Name\":\n",
    "            continue\n",
    "\n",
    "        else:\n",
    "            s.add(data[1])\n",
    "\n",
    "\n",
    "print(len(s))\n",
    "count=0\n",
    "for name in s:\n",
    "    print(name)\n",
    "    count += 1\n",
    "    if count ==20:\n",
    "        break\n",
    "    "
   ]
  },
  {
   "cell_type": "code",
   "execution_count": 23,
   "id": "b823b411-d0ad-4e7a-a573-83277dc0f81d",
   "metadata": {},
   "outputs": [
    {
     "name": "stdout",
     "output_type": "stream",
     "text": [
      "30273\n",
      "Bionca\n"
     ]
    }
   ],
   "source": [
    "import csv\n",
    "s=set()\n",
    "list_as_string= \"\"\n",
    "with open('../../data/names.csv', newline='') as file:\n",
    "    csv_file = csv.reader(file, delimiter=\",\", quotechar= '\"')\n",
    "    for line in csv_file: \n",
    "        if line[1]!=\"Name\":\n",
    "            s.add(line[1])\n",
    "\n",
    "        else:\n",
    "            continue\n",
    "        \n",
    "print(len(s))\n",
    "\n",
    "for name in s:\n",
    "    print(name)\n",
    "    break\n",
    "\n",
    "\n"
   ]
  },
  {
   "cell_type": "code",
   "execution_count": 5,
   "id": "98f24e23-722c-4b98-b143-4cc3fbea8256",
   "metadata": {},
   "outputs": [
    {
     "name": "stdout",
     "output_type": "stream",
     "text": [
      "30274\n"
     ]
    }
   ],
   "source": [
    "import csv\n",
    "\n",
    "names = set()\n",
    "\n",
    "with open('../../data/names.csv', newline='') as csvfile:\n",
    "    namereader = csv.reader(csvfile, delimiter=',', quotechar='\"')\n",
    "    counter = 0\n",
    "    for row in namereader:\n",
    "        if counter != 0:\n",
    "            names.add(row[1])\n",
    "        counter = counter + 1\n",
    "print(len(names))"
   ]
  },
  {
   "cell_type": "code",
   "execution_count": 27,
   "id": "13afcad0-b46a-49bd-904c-ab3a8bb5a251",
   "metadata": {},
   "outputs": [
    {
     "name": "stdout",
     "output_type": "stream",
     "text": [
      "{70499: 'giebel', 70374: 'Cannstatt'}\n"
     ]
    }
   ],
   "source": [
    "d={}\n",
    "\n",
    "d[70499]=\"Weilimdorf\"\n",
    "d[70374]=\"Cannstatt\"\n",
    "d[70499]=\"giebel\"\n",
    "print(d)"
   ]
  },
  {
   "cell_type": "code",
   "execution_count": null,
   "id": "01a03b23-26ff-423c-aa74-9a33a6a64a4b",
   "metadata": {},
   "outputs": [],
   "source": []
  },
  {
   "cell_type": "code",
   "execution_count": null,
   "id": "e65d24ec-d85b-4f48-946a-6bb05f92a8ea",
   "metadata": {},
   "outputs": [],
   "source": []
  },
  {
   "cell_type": "code",
   "execution_count": null,
   "id": "ea4e2960-8b33-4a01-94eb-b52a643b7edc",
   "metadata": {},
   "outputs": [],
   "source": []
  },
  {
   "cell_type": "code",
   "execution_count": null,
   "id": "a286f053-957e-4653-aee8-9ce389812780",
   "metadata": {},
   "outputs": [],
   "source": []
  },
  {
   "cell_type": "code",
   "execution_count": null,
   "id": "d5574a04-b1a6-4ab1-bae3-c1598fe74b17",
   "metadata": {},
   "outputs": [],
   "source": []
  }
 ],
 "metadata": {
  "kernelspec": {
   "display_name": "Python 3 (ipykernel)",
   "language": "python",
   "name": "python3"
  },
  "language_info": {
   "codemirror_mode": {
    "name": "ipython",
    "version": 3
   },
   "file_extension": ".py",
   "mimetype": "text/x-python",
   "name": "python",
   "nbconvert_exporter": "python",
   "pygments_lexer": "ipython3",
   "version": "3.12.4"
  }
 },
 "nbformat": 4,
 "nbformat_minor": 5
}
