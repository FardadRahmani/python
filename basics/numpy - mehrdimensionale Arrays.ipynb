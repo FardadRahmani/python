{
 "cells": [
  {
   "cell_type": "markdown",
   "id": "87754d89-d9d2-47f7-b762-4058fb711494",
   "metadata": {},
   "source": [
    "## Numpy: Mehrdimensionale Arrays\n",
    "\n",
    "In Numpy kannst du auch mit **mehrdimensionalen Arrays** (**Matrizen**) arbeiten."
   ]
  },
  {
   "cell_type": "code",
   "execution_count": 5,
   "id": "8b08d919-fddc-4b94-90ad-5099051dfac8",
   "metadata": {},
   "outputs": [],
   "source": [
    "import numpy as np"
   ]
  },
  {
   "cell_type": "code",
   "execution_count": 7,
   "id": "6a7264fe-fb22-4a12-a6bb-7fe099fa73f4",
   "metadata": {},
   "outputs": [
    {
     "name": "stdout",
     "output_type": "stream",
     "text": [
      "[1 2 3 4 5 6 7 8]\n"
     ]
    }
   ],
   "source": [
    "a = np.array([1, 2, 3, 4, 5, 6, 7, 8])\n",
    "print(a)"
   ]
  },
  {
   "cell_type": "code",
   "execution_count": 11,
   "id": "f08ef5cc-fa51-454f-a85f-17025154c2fb",
   "metadata": {},
   "outputs": [
    {
     "data": {
      "text/plain": [
       "array([[1, 2, 3, 4],\n",
       "       [5, 6, 7, 8]])"
      ]
     },
     "execution_count": 11,
     "metadata": {},
     "output_type": "execute_result"
    }
   ],
   "source": [
    "a.reshape((2, 4))\n",
    "#mach mein array mehrdimensional: 2 rows, 4 cols"
   ]
  },
  {
   "cell_type": "code",
   "execution_count": 13,
   "id": "db63bfd3-4868-4306-99f9-8ee14c9126e3",
   "metadata": {},
   "outputs": [
    {
     "name": "stdout",
     "output_type": "stream",
     "text": [
      "[1 2 3 4 5 6 7 8]\n"
     ]
    }
   ],
   "source": [
    "print(a)"
   ]
  },
  {
   "cell_type": "code",
   "execution_count": 21,
   "id": "68f534a9-62dc-4afe-b598-a2b1c417b23d",
   "metadata": {},
   "outputs": [
    {
     "name": "stdout",
     "output_type": "stream",
     "text": [
      "[[1 2 3 4]\n",
      " [5 6 7 8]]\n",
      "[1 2 3 4]\n",
      "[5 6 7 8]\n"
     ]
    }
   ],
   "source": [
    "reshaped= a.reshape((2, 4))\n",
    "\n",
    "print(reshaped)\n",
    "print(reshaped[0])\n",
    "print(reshaped[1])"
   ]
  },
  {
   "cell_type": "code",
   "execution_count": 23,
   "id": "5c32a846-a084-48ff-b9f3-94a3d4b6fb47",
   "metadata": {},
   "outputs": [
    {
     "name": "stdout",
     "output_type": "stream",
     "text": [
      "4\n"
     ]
    }
   ],
   "source": [
    "print(reshaped[0][3])"
   ]
  },
  {
   "cell_type": "markdown",
   "id": "a059a46c-4997-47ea-9d7f-50cffcae0d4c",
   "metadata": {},
   "source": [
    "### Parameter-Platzhalter: Anzahl von Einträgen in einer Dimension offen lassen"
   ]
  },
  {
   "cell_type": "code",
   "execution_count": 30,
   "id": "3df06955-8407-4e55-9d78-5243dc94b055",
   "metadata": {},
   "outputs": [
    {
     "data": {
      "text/plain": [
       "array([[1, 2, 3, 4],\n",
       "       [5, 6, 7, 8]])"
      ]
     },
     "execution_count": 30,
     "metadata": {},
     "output_type": "execute_result"
    }
   ],
   "source": [
    "a.reshape((-1, 4)) #soll vie spalten haben, zeilen weiß ich  nicht\n",
    "#hier macht er natürlich  2 weil es nur 8 eintraege hat insgesamt"
   ]
  },
  {
   "cell_type": "code",
   "execution_count": 34,
   "id": "96cfb590-f4f2-4bf1-8ef4-99cdfd5a836c",
   "metadata": {},
   "outputs": [
    {
     "data": {
      "text/plain": [
       "array([[1, 2],\n",
       "       [3, 4],\n",
       "       [5, 6],\n",
       "       [7, 8]])"
      ]
     },
     "execution_count": 34,
     "metadata": {},
     "output_type": "execute_result"
    }
   ],
   "source": [
    "a.reshape(( 4, -1))#soll 4 zeilen haben, spalten weiß ich nicht"
   ]
  },
  {
   "cell_type": "markdown",
   "id": "bcd980e4-76ef-4317-8f11-a032385c2452",
   "metadata": {},
   "source": [
    "### Aus mehrdimensionalem Array ein eindimensionales erzeugen"
   ]
  },
  {
   "cell_type": "code",
   "execution_count": 45,
   "id": "62777970-ba08-45df-9b46-d18b05d697e1",
   "metadata": {},
   "outputs": [],
   "source": [
    "b= np.array([[1, 2, 3],\n",
    "       [4, 5, 6]])"
   ]
  },
  {
   "cell_type": "code",
   "execution_count": 47,
   "id": "3be38d0d-f158-4ad3-bd80-f8f3b8dd37ec",
   "metadata": {},
   "outputs": [
    {
     "data": {
      "text/plain": [
       "array([[1, 2, 3],\n",
       "       [4, 5, 6]])"
      ]
     },
     "execution_count": 47,
     "metadata": {},
     "output_type": "execute_result"
    }
   ],
   "source": [
    "b"
   ]
  },
  {
   "cell_type": "markdown",
   "id": "666214a2-3545-45d9-b996-a89633c8a658",
   "metadata": {},
   "source": [
    "#### eindimensional machen"
   ]
  },
  {
   "cell_type": "code",
   "execution_count": 52,
   "id": "36efbc66-0f20-4e7b-b8a3-76e32c0cc4cf",
   "metadata": {},
   "outputs": [
    {
     "data": {
      "text/plain": [
       "array([1, 2, 3, 4, 5, 6])"
      ]
     },
     "execution_count": 52,
     "metadata": {},
     "output_type": "execute_result"
    }
   ],
   "source": [
    "b.reshape(6)"
   ]
  },
  {
   "cell_type": "code",
   "execution_count": 54,
   "id": "1326d106-704c-42d4-8bb9-4a1829858ddd",
   "metadata": {},
   "outputs": [
    {
     "data": {
      "text/plain": [
       "array([[1, 2, 3],\n",
       "       [4, 5, 6]])"
      ]
     },
     "execution_count": 54,
     "metadata": {},
     "output_type": "execute_result"
    }
   ],
   "source": [
    "b"
   ]
  },
  {
   "cell_type": "code",
   "execution_count": 56,
   "id": "f7309954-6c21-4c5a-a149-0c8695a4f154",
   "metadata": {},
   "outputs": [
    {
     "data": {
      "text/plain": [
       "array([1, 2, 3, 4, 5, 6])"
      ]
     },
     "execution_count": 56,
     "metadata": {},
     "output_type": "execute_result"
    }
   ],
   "source": [
    "b.reshape(-1)#so gehts auch(einfacher wenn du anzahl nicht weißt)"
   ]
  },
  {
   "cell_type": "code",
   "execution_count": 60,
   "id": "ef825222-9f03-4a83-9b54-74e5673939d7",
   "metadata": {},
   "outputs": [
    {
     "data": {
      "text/plain": [
       "(2, 3)"
      ]
     },
     "execution_count": 60,
     "metadata": {},
     "output_type": "execute_result"
    }
   ],
   "source": [
    "b.shape #gibt dimensionen meines Array an"
   ]
  },
  {
   "cell_type": "code",
   "execution_count": 72,
   "id": "b83787e6-399d-41b0-ae54-44aaad404ea4",
   "metadata": {},
   "outputs": [
    {
     "ename": "ValueError",
     "evalue": "cannot reshape array of size 5 into shape (4,2)",
     "output_type": "error",
     "traceback": [
      "\u001b[1;31m---------------------------------------------------------------------------\u001b[0m",
      "\u001b[1;31mValueError\u001b[0m                                Traceback (most recent call last)",
      "Cell \u001b[1;32mIn[72], line 2\u001b[0m\n\u001b[0;32m      1\u001b[0m c\u001b[38;5;241m=\u001b[39m np\u001b[38;5;241m.\u001b[39marray([\u001b[38;5;241m1\u001b[39m, \u001b[38;5;241m2\u001b[39m, \u001b[38;5;241m3\u001b[39m, \u001b[38;5;241m4\u001b[39m, \u001b[38;5;241m5\u001b[39m])\n\u001b[1;32m----> 2\u001b[0m c\u001b[38;5;241m.\u001b[39mreshape((\u001b[38;5;241m4\u001b[39m, \u001b[38;5;241m2\u001b[39m))\n",
      "\u001b[1;31mValueError\u001b[0m: cannot reshape array of size 5 into shape (4,2)"
     ]
    }
   ],
   "source": [
    "c= np.array([1, 2, 3, 4, 5])\n",
    "c.reshape((4, 2)) # unmöglich draus ein vierzeiliges zweispaltiges array zu shapen!"
   ]
  },
  {
   "cell_type": "code",
   "execution_count": 74,
   "id": "55f60a8f-87a1-4ade-8f5f-a2ae1c2a9bc6",
   "metadata": {},
   "outputs": [
    {
     "data": {
      "text/plain": [
       "array([[1, 2],\n",
       "       [3, 4],\n",
       "       [5, 6],\n",
       "       [7, 8]])"
      ]
     },
     "execution_count": 74,
     "metadata": {},
     "output_type": "execute_result"
    }
   ],
   "source": [
    "c= np.array([1, 2, 3, 4, 5, 6, 7, 8])\n",
    "c.reshape((4, 2)) # so klappts!"
   ]
  },
  {
   "cell_type": "code",
   "execution_count": null,
   "id": "cc130cdb-1486-47a2-a390-589fcf8d8bc9",
   "metadata": {},
   "outputs": [],
   "source": []
  }
 ],
 "metadata": {
  "kernelspec": {
   "display_name": "Python 3 (ipykernel)",
   "language": "python",
   "name": "python3"
  },
  "language_info": {
   "codemirror_mode": {
    "name": "ipython",
    "version": 3
   },
   "file_extension": ".py",
   "mimetype": "text/x-python",
   "name": "python",
   "nbconvert_exporter": "python",
   "pygments_lexer": "ipython3",
   "version": "3.12.3"
  }
 },
 "nbformat": 4,
 "nbformat_minor": 5
}
