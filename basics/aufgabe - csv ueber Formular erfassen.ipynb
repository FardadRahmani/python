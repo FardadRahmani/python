{
 "cells": [
  {
   "cell_type": "markdown",
   "id": "ad573ba2-df68-4cb1-8d52-522789e6d875",
   "metadata": {},
   "source": [
    "## Aufgabe: CSV-Datei über ein Formular erfassen\n",
    "\n",
    "Stell dir vor, du möchtest die Anwesenheit von Studierenden überprüfen. Dazu möchtest du zu jedem Studierenden folgende Daten erfassen: Vorname, Nachname, Studienfach.\n",
    "\n",
    "Es gibt 5 verschiedene Studienfächer:\n",
    "\n",
    "- Mathe\n",
    "- Informatik\n",
    "- Philosophie\n",
    "- Kulturwissenschaften\n",
    "- Psychologie\n",
    "\n",
    "Aufgabe: Erstelle ein komfortables Formular, mit dem du die Studierenden erfassen kannst! Sorge dafür, dass nach jedem Schritt alle bisher erfassten Daten in einer .csv-Datei (students.csv) abgespeichert werden. In der .csv-Datei sollen 3 Spalten existieren: Vorname, Nachname und Studienfach.\n",
    "\n",
    "Verwende für den Vor- bzw. Nachnamen ein Textfeld und für das Studienfach ein Auswahlmenü, mit dem das Studienfach ausgewählt werden kann. Erstelle dann einen Button, mit dem der aktuelle Studierende in die .csv-Datei geschrieben wird und über das Formular anschließend der nächste Studierende erfasst werden kann."
   ]
  },
  {
   "cell_type": "code",
   "execution_count": 54,
   "id": "e145bd17-4c80-45ba-b006-f59e6795466a",
   "metadata": {},
   "outputs": [],
   "source": [
    "import ipywidgets as widgets\n",
    "from IPython.display import display\n",
    "import csv\n",
    "\n",
    "\n",
    "\n",
    "\n",
    "\n",
    "vn = widgets.Text(description=\"Vorname:\", value=\"\")\n",
    "nn = widgets.Text(description=\"Nachname:\", value=\"\")\n",
    "sf = widgets.Dropdown(\n",
    "    options=['---', 'Mathe', 'Informatik', 'Philosophie', 'Kulturwissenschaften', 'Psychologie'],\n",
    "    description='Studienfach:',\n",
    "    disabled=False\n",
    ")\n",
    "button = widgets.Button(description=\"Speichern\")\n",
    "output = widgets.Output()\n",
    "\n",
    "\n",
    "\n",
    "\n",
    "\n",
    "def empty_fields():\n",
    "    vn.value = \"\" \n",
    "    nn.value = \"\" \n",
    "    sf.value= \"---\"\n",
    "\n",
    "\n",
    "\n",
    "\n",
    "\n",
    "\n",
    "def on_button_click(b):\n",
    "    \n",
    "    with open('students.csv', 'a', newline='') as file:\n",
    "        writer = csv.writer(file, delimiter= \";\")\n",
    "\n",
    "        if vn.value == \"\" or nn.value == \"\" or sf.value == \"---\":\n",
    "            with output:\n",
    "                print(\"Bitte alle Felder ausfüllen!\")\n",
    "\n",
    "        else:\n",
    "            writer.writerow([vn.value, nn.value, sf.value])\n",
    "            empty_fields()\n",
    "            \n",
    "\n",
    "        \n",
    "\n"
   ]
  },
  {
   "cell_type": "code",
   "execution_count": 52,
   "id": "d79a0d11-d2f5-4a7d-bad7-11de7288eb2a",
   "metadata": {},
   "outputs": [
    {
     "name": "stdout",
     "output_type": "stream",
     "text": [
      "Bitte Vorname, Nachname sowie Studienfach angeben:\n",
      "\n"
     ]
    },
    {
     "data": {
      "application/vnd.jupyter.widget-view+json": {
       "model_id": "2d2e3ce268c04fff94a058be71fed2e0",
       "version_major": 2,
       "version_minor": 0
      },
      "text/plain": [
       "Text(value='', description='Vorname:')"
      ]
     },
     "metadata": {},
     "output_type": "display_data"
    },
    {
     "data": {
      "application/vnd.jupyter.widget-view+json": {
       "model_id": "410367a2be084a33ade5b9be1a14dd6c",
       "version_major": 2,
       "version_minor": 0
      },
      "text/plain": [
       "Text(value='', description='Nachname:')"
      ]
     },
     "metadata": {},
     "output_type": "display_data"
    },
    {
     "data": {
      "application/vnd.jupyter.widget-view+json": {
       "model_id": "440626559b2e4c4db3d5da95b62c94e6",
       "version_major": 2,
       "version_minor": 0
      },
      "text/plain": [
       "Dropdown(description='Studienfach:', options=('---', 'Mathe', 'Informatik', 'Philosophie', 'Kulturwissenschaft…"
      ]
     },
     "metadata": {},
     "output_type": "display_data"
    },
    {
     "data": {
      "application/vnd.jupyter.widget-view+json": {
       "model_id": "5ed58b86fd7d47fc8396780633a022d4",
       "version_major": 2,
       "version_minor": 0
      },
      "text/plain": [
       "Button(description='Speichern', style=ButtonStyle())"
      ]
     },
     "metadata": {},
     "output_type": "display_data"
    },
    {
     "data": {
      "application/vnd.jupyter.widget-view+json": {
       "model_id": "64ace53daad1445db998dc45f4af2824",
       "version_major": 2,
       "version_minor": 0
      },
      "text/plain": [
       "Output()"
      ]
     },
     "metadata": {},
     "output_type": "display_data"
    }
   ],
   "source": [
    "print(\"Bitte Vorname, Nachname sowie Studienfach angeben:\\n\")\n",
    "display(vn, nn, sf, button, output)\n",
    "button.on_click(on_button_click)"
   ]
  },
  {
   "cell_type": "code",
   "execution_count": null,
   "id": "25d06c97-4868-4597-a1b5-937c56b35494",
   "metadata": {},
   "outputs": [],
   "source": []
  }
 ],
 "metadata": {
  "kernelspec": {
   "display_name": "Python 3 (ipykernel)",
   "language": "python",
   "name": "python3"
  },
  "language_info": {
   "codemirror_mode": {
    "name": "ipython",
    "version": 3
   },
   "file_extension": ".py",
   "mimetype": "text/x-python",
   "name": "python",
   "nbconvert_exporter": "python",
   "pygments_lexer": "ipython3",
   "version": "3.12.3"
  }
 },
 "nbformat": 4,
 "nbformat_minor": 5
}
