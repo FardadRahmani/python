{
 "cells": [
  {
   "cell_type": "code",
   "execution_count": 5,
   "id": "cfd4382f-d603-4aef-9fc6-97bbe20fd837",
   "metadata": {},
   "outputs": [
    {
     "name": "stdout",
     "output_type": "stream",
     "text": [
      "[('Franziska', 1), ('Monika', 2), ('Max', 3), ('Erik', 3)]\n"
     ]
    }
   ],
   "source": [
    "students = [\n",
    "    (\"Max\", 3),\n",
    "    (\"Monika\", 2),\n",
    "    (\"Erik\", 3),\n",
    "    (\"Franziska\", 1)\n",
    "]\n",
    "#Funktion welche den zweiten Wert des Tupel zurückgibt, hier semesterzahl(um danach zu sortieren)\n",
    "def students_key(student):\n",
    "    return student[1]\n",
    "\n",
    "students.sort(key= students_key)\n",
    "print(students)"
   ]
  },
  {
   "cell_type": "code",
   "execution_count": 11,
   "id": "7e88a6bb-bd92-484b-ab81-558d2a42d210",
   "metadata": {},
   "outputs": [
    {
     "name": "stdout",
     "output_type": "stream",
     "text": [
      "[('Franziska', 1), ('Monika', 2), ('Max', 3), ('Erik', 3)]\n"
     ]
    }
   ],
   "source": [
    "students = [\n",
    "    (\"Max\", 3),\n",
    "    (\"Monika\", 2),\n",
    "    (\"Erik\", 3),\n",
    "    (\"Franziska\", 1)\n",
    "]\n",
    "\n",
    "students.sort(key=lambda student: student[1])#InlineFkt wird direkt hier definiert:\n",
    "#meiner LambdaFkt wird der parameter student: übergeben, daraus Rückgabewert: student[1]\n",
    "print(students)"
   ]
  },
  {
   "cell_type": "code",
   "execution_count": 13,
   "id": "9fbfaa38-3855-4ea5-95b7-b78c75bcf77e",
   "metadata": {},
   "outputs": [
    {
     "data": {
      "text/plain": [
       "1"
      ]
     },
     "execution_count": 13,
     "metadata": {},
     "output_type": "execute_result"
    }
   ],
   "source": [
    "f = lambda student: student[1]\n",
    "f((\"Max\", 1))"
   ]
  },
  {
   "cell_type": "code",
   "execution_count": null,
   "id": "7485fadc-85a7-4782-8a26-672352a47f42",
   "metadata": {},
   "outputs": [],
   "source": []
  }
 ],
 "metadata": {
  "kernelspec": {
   "display_name": "Python 3 (ipykernel)",
   "language": "python",
   "name": "python3"
  },
  "language_info": {
   "codemirror_mode": {
    "name": "ipython",
    "version": 3
   },
   "file_extension": ".py",
   "mimetype": "text/x-python",
   "name": "python",
   "nbconvert_exporter": "python",
   "pygments_lexer": "ipython3",
   "version": "3.12.4"
  }
 },
 "nbformat": 4,
 "nbformat_minor": 5
}
