{
 "cells": [
  {
   "cell_type": "markdown",
   "id": "0f33743a-9ca8-4e46-9017-dfb9542232a2",
   "metadata": {},
   "source": [
    "a.)\n",
    "\n",
    "Schreibe eine Exception, die den Fehler abfängt, wenn jemand versucht die folgende Datei zu öffnen, die nicht in diesem Verzeichnis existiert! Gib in dem Fall die Nachricht \"Datei wurde nicht gefunden\" aus. Achte auch darauf, die Datei mit einem geeigneten Konstrukt zu öffnen, falls sie zukünftig doch existieren sollte - ohne, dass es dann zu Fehlern kommen kann, weil die Datei nicht richtig geschlossen wurde."
   ]
  },
  {
   "cell_type": "code",
   "execution_count": 8,
   "id": "c17007d9-3a5c-4e3e-8d02-bcdf2bbe182e",
   "metadata": {},
   "outputs": [
    {
     "name": "stdout",
     "output_type": "stream",
     "text": [
      "Datei wurde nicht gefunden\n"
     ]
    }
   ],
   "source": [
    "# hier kommt dein Code hin\n",
    "try:\n",
    "    with open(\"nicht_oeffnen.txt\", \"r\") as file:\n",
    "        print(file)\n",
    "\n",
    "except FileNotFoundError:\n",
    "    print(\"Datei wurde nicht gefunden\")\n"
   ]
  },
  {
   "cell_type": "markdown",
   "id": "29cc3322-4c77-489f-b432-0f7a30153f63",
   "metadata": {},
   "source": [
    "b.)\r\n",
    "\r\n",
    "Schau dir an, welcher Fehlertyp bei der Ausführung des folgenden Code auftritt. Fange den Fehler mit try except ab und gib eine passende Fehlermeldung aus!"
   ]
  },
  {
   "cell_type": "code",
   "execution_count": 14,
   "id": "41f865a6-37d9-4fec-b09f-9340b05799a3",
   "metadata": {},
   "outputs": [
    {
     "name": "stdout",
     "output_type": "stream",
     "text": [
      "150\n",
      "1150\n",
      "key fehlt im Dictionary\n"
     ]
    }
   ],
   "source": [
    "articles = [\"Unsichtbare Tastatur\", \"Holographisches Display\", \"Endlosschleifenschneider\"]\n",
    "\n",
    "prices = {\"Unsichtbare Tastatur\": 150, \"Holographisches Display\": 1150}\n",
    "\n",
    "def print_prices():\n",
    "    for article in articles:\n",
    "        try:\n",
    "            print(prices[article])\n",
    "\n",
    "        except KeyError:\n",
    "            print(\"key fehlt im Dictionary\")\n",
    "        \n",
    "\n",
    "print_prices()"
   ]
  },
  {
   "cell_type": "markdown",
   "id": "8895ea7e-0a38-413b-9b4e-af866a957e7e",
   "metadata": {},
   "source": [
    "c.)\n",
    "\n",
    "Zuletzt erstellst du noch eine Fehlerklasse, die aufgerufen wird, wenn es sich bei d um ein leeres dictionary handelt. Dann soll ein EmptyDictionaryError auftreten mit dem Hinweis, dass das dictionary d kein Element enthält."
   ]
  },
  {
   "cell_type": "code",
   "execution_count": 18,
   "id": "cbcca450-1424-4727-ab5b-1debef11a465",
   "metadata": {},
   "outputs": [
    {
     "ename": "EmptyDictionaryError",
     "evalue": "d enthät kein Element!",
     "output_type": "error",
     "traceback": [
      "\u001b[1;31m---------------------------------------------------------------------------\u001b[0m",
      "\u001b[1;31mEmptyDictionaryError\u001b[0m                      Traceback (most recent call last)",
      "Cell \u001b[1;32mIn[18], line 9\u001b[0m\n\u001b[0;32m      4\u001b[0m     \u001b[38;5;28;01mpass\u001b[39;00m\n\u001b[0;32m      8\u001b[0m \u001b[38;5;28;01mif\u001b[39;00m \u001b[38;5;28mlen\u001b[39m(d) \u001b[38;5;241m==\u001b[39m \u001b[38;5;241m0\u001b[39m:\n\u001b[1;32m----> 9\u001b[0m     \u001b[38;5;28;01mraise\u001b[39;00m EmptyDictionaryError(\u001b[38;5;124m\"\u001b[39m\u001b[38;5;124md enthät kein Element!\u001b[39m\u001b[38;5;124m\"\u001b[39m)\n",
      "\u001b[1;31mEmptyDictionaryError\u001b[0m: d enthät kein Element!"
     ]
    }
   ],
   "source": [
    "d = {}\n",
    "\n",
    "class EmptyDictionaryError(Exception):\n",
    "    pass\n",
    "\n",
    "\n",
    "\n",
    "if len(d) == 0:\n",
    "    raise EmptyDictionaryError(\"d enthät kein Element!\")\n",
    "   \n",
    "# hier kommt dein Code hin"
   ]
  },
  {
   "cell_type": "code",
   "execution_count": null,
   "id": "0d9ed115-8626-4872-912e-86a22c0445c1",
   "metadata": {},
   "outputs": [],
   "source": []
  },
  {
   "cell_type": "code",
   "execution_count": null,
   "id": "80e947bc-aa67-41c5-879e-c8504eaa0267",
   "metadata": {},
   "outputs": [],
   "source": []
  },
  {
   "cell_type": "code",
   "execution_count": null,
   "id": "df74a5fe-f29b-40c2-819e-2d91da4318a7",
   "metadata": {},
   "outputs": [],
   "source": []
  },
  {
   "cell_type": "code",
   "execution_count": null,
   "id": "e07382c6-a482-473d-971d-7a22975869a5",
   "metadata": {},
   "outputs": [],
   "source": []
  },
  {
   "cell_type": "code",
   "execution_count": null,
   "id": "ed0680b9-0644-4e8a-95f1-6af20ce1a2ab",
   "metadata": {},
   "outputs": [],
   "source": []
  }
 ],
 "metadata": {
  "kernelspec": {
   "display_name": "Python 3 (ipykernel)",
   "language": "python",
   "name": "python3"
  },
  "language_info": {
   "codemirror_mode": {
    "name": "ipython",
    "version": 3
   },
   "file_extension": ".py",
   "mimetype": "text/x-python",
   "name": "python",
   "nbconvert_exporter": "python",
   "pygments_lexer": "ipython3",
   "version": "3.12.4"
  }
 },
 "nbformat": 4,
 "nbformat_minor": 5
}
