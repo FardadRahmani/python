{
 "cells": [
  {
   "cell_type": "markdown",
   "id": "44a29336-6ed4-4484-ae4f-48844e885fe9",
   "metadata": {},
   "source": [
    "### Variable Funktionsparameter übergeben"
   ]
  },
  {
   "cell_type": "code",
   "execution_count": 6,
   "id": "135f9e8a-19ee-417d-bc15-f0e1bbef0c39",
   "metadata": {},
   "outputs": [
    {
     "name": "stdout",
     "output_type": "stream",
     "text": [
      "1\n",
      "2\n",
      "3\n"
     ]
    }
   ],
   "source": [
    "def f(a, b, c):\n",
    "    print(a)\n",
    "    print(b)\n",
    "    print(c)\n",
    "\n",
    "\n",
    "#f(1,2,3)\n",
    "l = [1, 2, 3]\n",
    "#normale Schreibweise:\n",
    "#f(l[0], l[1], l[2])\n",
    "#einfachere Schreibweise\n",
    "f(*l)"
   ]
  },
  {
   "cell_type": "code",
   "execution_count": 12,
   "id": "d3d7ab4b-93a0-4596-8632-a3c0223118a3",
   "metadata": {},
   "outputs": [
    {
     "name": "stdout",
     "output_type": "stream",
     "text": [
      "(1, 2, 3, 5, 7, 4)\n"
     ]
    },
    {
     "data": {
      "text/plain": [
       "7"
      ]
     },
     "execution_count": 12,
     "metadata": {},
     "output_type": "execute_result"
    }
   ],
   "source": [
    "def calculate_max(*params):\n",
    "    print(params)\n",
    "    current_max = params[0]\n",
    "    for item in params:\n",
    "        if item > current_max:\n",
    "            current_max = item\n",
    "    return current_max\n",
    "    \n",
    "calculate_max(1, 2, 3,5,7,4)"
   ]
  },
  {
   "cell_type": "code",
   "execution_count": 16,
   "id": "48d605bf-0c59-4236-b064-f779ba490662",
   "metadata": {},
   "outputs": [
    {
     "name": "stdout",
     "output_type": "stream",
     "text": [
      "1\n",
      "(2, 3, 9, 6)\n"
     ]
    },
    {
     "data": {
      "text/plain": [
       "9"
      ]
     },
     "execution_count": 16,
     "metadata": {},
     "output_type": "execute_result"
    }
   ],
   "source": [
    "def calculate_max(current_max, *params):\n",
    "    print(current_max)\n",
    "    print(params)\n",
    "    for item in params:\n",
    "        if item > current_max:\n",
    "            current_max = item\n",
    "    return current_max\n",
    "    \n",
    "calculate_max(1, 2, 3, 9, 6)"
   ]
  },
  {
   "cell_type": "code",
   "execution_count": null,
   "id": "8f6eca1e-7034-4691-81b0-502bcf95b411",
   "metadata": {},
   "outputs": [],
   "source": []
  }
 ],
 "metadata": {
  "kernelspec": {
   "display_name": "Python 3 (ipykernel)",
   "language": "python",
   "name": "python3"
  },
  "language_info": {
   "codemirror_mode": {
    "name": "ipython",
    "version": 3
   },
   "file_extension": ".py",
   "mimetype": "text/x-python",
   "name": "python",
   "nbconvert_exporter": "python",
   "pygments_lexer": "ipython3",
   "version": "3.12.4"
  }
 },
 "nbformat": 4,
 "nbformat_minor": 5
}
