{
 "cells": [
  {
   "cell_type": "markdown",
   "id": "f20043a1-8294-43fe-9ae1-e2751e4265cb",
   "metadata": {},
   "source": [
    "# Hinführung: O-Notation\n",
    "\n",
    "Schauen wir uns mal ein paar Beispiele an, wie sich die Anzahl der Aufrufe des print()-Befehles in Abhängigkeit zu `n` verhalten könnte:"
   ]
  },
  {
   "cell_type": "markdown",
   "id": "961b74b2-db6b-4525-9836-e8d7b1c91683",
   "metadata": {},
   "source": [
    "### Asymptotische Laufzeit:\n",
    "hier geht darum dass man angibt wie sich die Laufzeit eines Programmes verhält, wenn Datenmenge sich zB verdoppelt"
   ]
  },
  {
   "cell_type": "code",
   "execution_count": null,
   "id": "dfea289b-7623-4b35-8c02-729e404e9000",
   "metadata": {},
   "outputs": [],
   "source": []
  },
  {
   "cell_type": "markdown",
   "id": "c8ceb4c0-6462-452b-b026-ed11a94a999d",
   "metadata": {},
   "source": [
    "#### Konstante Laufzeit"
   ]
  },
  {
   "cell_type": "code",
   "execution_count": 23,
   "id": "fd1fb501-372e-42f9-a90c-63d1c94cc53d",
   "metadata": {},
   "outputs": [
    {
     "name": "stdout",
     "output_type": "stream",
     "text": [
      "--- nächstes n: 1---\n",
      "1. Durchlauf von 5\n",
      "2. Durchlauf von 5\n",
      "3. Durchlauf von 5\n",
      "4. Durchlauf von 5\n",
      "5. Durchlauf von 5\n",
      "--- nächstes n: 2---\n",
      "1. Durchlauf von 5\n",
      "2. Durchlauf von 5\n",
      "3. Durchlauf von 5\n",
      "4. Durchlauf von 5\n",
      "5. Durchlauf von 5\n",
      "--- nächstes n: 3---\n",
      "1. Durchlauf von 5\n",
      "2. Durchlauf von 5\n",
      "3. Durchlauf von 5\n",
      "4. Durchlauf von 5\n",
      "5. Durchlauf von 5\n",
      "--- nächstes n: 4---\n",
      "1. Durchlauf von 5\n",
      "2. Durchlauf von 5\n",
      "3. Durchlauf von 5\n",
      "4. Durchlauf von 5\n",
      "5. Durchlauf von 5\n",
      "--- nächstes n: 5---\n",
      "1. Durchlauf von 5\n",
      "2. Durchlauf von 5\n",
      "3. Durchlauf von 5\n",
      "4. Durchlauf von 5\n",
      "5. Durchlauf von 5\n"
     ]
    }
   ],
   "source": [
    "def f(n):\n",
    "    print(\"--- nächstes n: \" + str(n) + \"---\")\n",
    "    for i in range(1, 6): \n",
    "        print(str(i) + \". Durchlauf von 5\")\n",
    "\n",
    "for n in range(1, 6):\n",
    "    f(n) #egal welche Zahl hier n ist, programm läuft genau gleich oft durch"
   ]
  },
  {
   "cell_type": "code",
   "execution_count": null,
   "id": "90183b5e-5362-45c5-a97c-b290bf229867",
   "metadata": {},
   "outputs": [],
   "source": []
  },
  {
   "cell_type": "markdown",
   "id": "3cfc53e3-bdcd-4892-9331-fe6119d556a9",
   "metadata": {},
   "source": [
    "### Lineare Laufzeit"
   ]
  },
  {
   "cell_type": "code",
   "execution_count": 29,
   "id": "2ff95811-0876-4085-aa02-de74695b4d3e",
   "metadata": {},
   "outputs": [
    {
     "name": "stdout",
     "output_type": "stream",
     "text": [
      "--- nächstes n: 1---\n",
      "1. Durchlauf von 1\n",
      "--- nächstes n: 2---\n",
      "1. Durchlauf von 2\n",
      "2. Durchlauf von 2\n",
      "--- nächstes n: 3---\n",
      "1. Durchlauf von 3\n",
      "2. Durchlauf von 3\n",
      "3. Durchlauf von 3\n",
      "--- nächstes n: 4---\n",
      "1. Durchlauf von 4\n",
      "2. Durchlauf von 4\n",
      "3. Durchlauf von 4\n",
      "4. Durchlauf von 4\n",
      "--- nächstes n: 5---\n",
      "1. Durchlauf von 5\n",
      "2. Durchlauf von 5\n",
      "3. Durchlauf von 5\n",
      "4. Durchlauf von 5\n",
      "5. Durchlauf von 5\n"
     ]
    }
   ],
   "source": [
    "# wir schauen uns an, wie sich die Ausgabe der Funktion f in Abhängigkei vom Parameter n verändert\n",
    "\n",
    "def f(n):\n",
    "    print(\"--- nächstes n: \" + str(n) + \"---\")\n",
    "\n",
    "    for i in range(1, n + 1): \n",
    "        print(str(i) + \". Durchlauf von \" + str(n))\n",
    "\n",
    "for n in range(1,6):\n",
    "    f(n) #je größer unsere Zahl n ist, umso öfter wird der print ausgeführt\n",
    "        #aber linear: doppelt so hoch n, doppelt soviele print-Befehle"
   ]
  },
  {
   "cell_type": "code",
   "execution_count": null,
   "id": "a8657b0c-8adc-4350-9e0a-b97fc4edb027",
   "metadata": {},
   "outputs": [],
   "source": []
  },
  {
   "cell_type": "markdown",
   "id": "ade8c3af-aa44-4d58-91ee-828c005ab20e",
   "metadata": {},
   "source": [
    "### Quadratische Laufzeit"
   ]
  },
  {
   "cell_type": "code",
   "execution_count": 34,
   "id": "757e0ad7-b363-464c-903e-aa5077feb108",
   "metadata": {},
   "outputs": [
    {
     "name": "stdout",
     "output_type": "stream",
     "text": [
      "--- nächstes n: 1---\n",
      "(i = 1, j = 1) - Durchlauf, n = 1\n",
      "--- nächstes n: 2---\n",
      "(i = 1, j = 1) - Durchlauf, n = 2\n",
      "(i = 2, j = 1) - Durchlauf, n = 2\n",
      "(i = 1, j = 2) - Durchlauf, n = 2\n",
      "(i = 2, j = 2) - Durchlauf, n = 2\n",
      "--- nächstes n: 3---\n",
      "(i = 1, j = 1) - Durchlauf, n = 3\n",
      "(i = 2, j = 1) - Durchlauf, n = 3\n",
      "(i = 3, j = 1) - Durchlauf, n = 3\n",
      "(i = 1, j = 2) - Durchlauf, n = 3\n",
      "(i = 2, j = 2) - Durchlauf, n = 3\n",
      "(i = 3, j = 2) - Durchlauf, n = 3\n",
      "(i = 1, j = 3) - Durchlauf, n = 3\n",
      "(i = 2, j = 3) - Durchlauf, n = 3\n",
      "(i = 3, j = 3) - Durchlauf, n = 3\n",
      "--- nächstes n: 4---\n",
      "(i = 1, j = 1) - Durchlauf, n = 4\n",
      "(i = 2, j = 1) - Durchlauf, n = 4\n",
      "(i = 3, j = 1) - Durchlauf, n = 4\n",
      "(i = 4, j = 1) - Durchlauf, n = 4\n",
      "(i = 1, j = 2) - Durchlauf, n = 4\n",
      "(i = 2, j = 2) - Durchlauf, n = 4\n",
      "(i = 3, j = 2) - Durchlauf, n = 4\n",
      "(i = 4, j = 2) - Durchlauf, n = 4\n",
      "(i = 1, j = 3) - Durchlauf, n = 4\n",
      "(i = 2, j = 3) - Durchlauf, n = 4\n",
      "(i = 3, j = 3) - Durchlauf, n = 4\n",
      "(i = 4, j = 3) - Durchlauf, n = 4\n",
      "(i = 1, j = 4) - Durchlauf, n = 4\n",
      "(i = 2, j = 4) - Durchlauf, n = 4\n",
      "(i = 3, j = 4) - Durchlauf, n = 4\n",
      "(i = 4, j = 4) - Durchlauf, n = 4\n",
      "--- nächstes n: 5---\n",
      "(i = 1, j = 1) - Durchlauf, n = 5\n",
      "(i = 2, j = 1) - Durchlauf, n = 5\n",
      "(i = 3, j = 1) - Durchlauf, n = 5\n",
      "(i = 4, j = 1) - Durchlauf, n = 5\n",
      "(i = 5, j = 1) - Durchlauf, n = 5\n",
      "(i = 1, j = 2) - Durchlauf, n = 5\n",
      "(i = 2, j = 2) - Durchlauf, n = 5\n",
      "(i = 3, j = 2) - Durchlauf, n = 5\n",
      "(i = 4, j = 2) - Durchlauf, n = 5\n",
      "(i = 5, j = 2) - Durchlauf, n = 5\n",
      "(i = 1, j = 3) - Durchlauf, n = 5\n",
      "(i = 2, j = 3) - Durchlauf, n = 5\n",
      "(i = 3, j = 3) - Durchlauf, n = 5\n",
      "(i = 4, j = 3) - Durchlauf, n = 5\n",
      "(i = 5, j = 3) - Durchlauf, n = 5\n",
      "(i = 1, j = 4) - Durchlauf, n = 5\n",
      "(i = 2, j = 4) - Durchlauf, n = 5\n",
      "(i = 3, j = 4) - Durchlauf, n = 5\n",
      "(i = 4, j = 4) - Durchlauf, n = 5\n",
      "(i = 5, j = 4) - Durchlauf, n = 5\n",
      "(i = 1, j = 5) - Durchlauf, n = 5\n",
      "(i = 2, j = 5) - Durchlauf, n = 5\n",
      "(i = 3, j = 5) - Durchlauf, n = 5\n",
      "(i = 4, j = 5) - Durchlauf, n = 5\n",
      "(i = 5, j = 5) - Durchlauf, n = 5\n"
     ]
    }
   ],
   "source": [
    "def f(n):\n",
    "    print(\"--- nächstes n: \" + str(n) + \"---\")\n",
    "    for j in range(1, n + 1):\n",
    "        for i in range(1, n + 1):\n",
    "            print(\"(i = \" + str(i) + \", j = \" + str(j) + \") - Durchlauf, n = \" + str(n))\n",
    "\n",
    "for n in range(1, 6):\n",
    "    f(n)   #bei n=2->4prints;  bei n=4->16 prints;  bei n=5->25 prints!"
   ]
  },
  {
   "cell_type": "code",
   "execution_count": null,
   "id": "0693d01e-40f0-4733-a16a-8e7fb3925d43",
   "metadata": {},
   "outputs": [],
   "source": []
  },
  {
   "cell_type": "markdown",
   "id": "d7420776-5099-4c7a-bd8b-1cea451a992b",
   "metadata": {},
   "source": [
    "### Vergleich plotten"
   ]
  },
  {
   "cell_type": "code",
   "execution_count": 55,
   "id": "8d7fa8a6-260e-4c4e-a847-0b013a23a30c",
   "metadata": {},
   "outputs": [],
   "source": [
    "import matplotlib.pyplot as plt\n",
    "import numpy as np\n",
    "\n",
    "%matplotlib inline"
   ]
  },
  {
   "cell_type": "code",
   "execution_count": null,
   "id": "096cfbdd-45b3-482c-924f-d4ebc26a2e69",
   "metadata": {},
   "outputs": [],
   "source": []
  },
  {
   "cell_type": "code",
   "execution_count": 57,
   "id": "4cf4a213-ec83-4799-acc1-e4ec315e2269",
   "metadata": {},
   "outputs": [
    {
     "data": {
      "image/png": "[encoded data removed]",
      "text/plain": [
       "<Figure size 640x480 with 1 Axes>"
      ]
     },
     "metadata": {},
     "output_type": "display_data"
    }
   ],
   "source": [
    "plt.plot(np.arange(1, 6), np.repeat(5, 5), label=\"Konstante Laufzeit\")\n",
    "plt.plot(np.arange(1, 6), np.arange(1, 6), label=\"Lineare Laufzeit\")\n",
    "plt.plot(np.arange(1, 6), np.arange(1, 6) ** 2, label=\"Quadratrische Laufzeit\")\n",
    "plt.legend()\n",
    "\n",
    "plt.xlabel(\"n\")\n",
    "plt.ylabel(\"Anzahl print() - Befehle\")\n",
    "plt.show()"
   ]
  },
  {
   "cell_type": "code",
   "execution_count": null,
   "id": "f92562f7-ef87-4abd-ab4f-6742e72f95b7",
   "metadata": {},
   "outputs": [],
   "source": []
  },
  {
   "cell_type": "code",
   "execution_count": null,
   "id": "3a768009-ebf3-4958-9f3a-89903d2dca4e",
   "metadata": {},
   "outputs": [],
   "source": []
  },
  {
   "cell_type": "code",
   "execution_count": null,
   "id": "e469b04f-6cc3-42ba-a05f-19df8e7eb59f",
   "metadata": {},
   "outputs": [],
   "source": []
  },
  {
   "cell_type": "code",
   "execution_count": null,
   "id": "485d2f9a-a6de-47d4-b2ea-d01292e2cf5f",
   "metadata": {},
   "outputs": [],
   "source": []
  },
  {
   "cell_type": "code",
   "execution_count": null,
   "id": "1c496df4-fe7f-4ad2-930f-0ecfe2db8e3b",
   "metadata": {},
   "outputs": [],
   "source": []
  },
  {
   "cell_type": "code",
   "execution_count": null,
   "id": "595f11bf-7243-4896-84d1-bb54fdde2bb2",
   "metadata": {},
   "outputs": [],
   "source": []
  },
  {
   "cell_type": "code",
   "execution_count": null,
   "id": "dc64ae1e-72eb-485e-bf05-4c7123652073",
   "metadata": {},
   "outputs": [],
   "source": []
  },
  {
   "cell_type": "code",
   "execution_count": null,
   "id": "439f4f6d-2427-4697-a044-efbd7dc7abad",
   "metadata": {},
   "outputs": [],
   "source": []
  },
  {
   "cell_type": "code",
   "execution_count": null,
   "id": "43ba6efd-7493-44b2-bb7f-d0a0a456cd15",
   "metadata": {},
   "outputs": [],
   "source": []
  },
  {
   "cell_type": "code",
   "execution_count": null,
   "id": "2d69c436-50c7-4cb7-aa86-6597f13f4e7b",
   "metadata": {},
   "outputs": [],
   "source": []
  },
  {
   "cell_type": "code",
   "execution_count": null,
   "id": "cfcb05aa-6366-4b5e-a2c8-0a57f543c7a3",
   "metadata": {},
   "outputs": [],
   "source": []
  },
  {
   "cell_type": "code",
   "execution_count": null,
   "id": "1ea421bc-8636-438e-aee4-a9ad1034d8f5",
   "metadata": {},
   "outputs": [],
   "source": []
  },
  {
   "cell_type": "code",
   "execution_count": null,
   "id": "f9b37bda-e9e2-40e7-b70a-538abf1efe4d",
   "metadata": {},
   "outputs": [],
   "source": []
  },
  {
   "cell_type": "code",
   "execution_count": null,
   "id": "d319502f-d1d6-404b-922b-fad414cc491e",
   "metadata": {},
   "outputs": [],
   "source": []
  }
 ],
 "metadata": {
  "kernelspec": {
   "display_name": "Python 3 (ipykernel)",
   "language": "python",
   "name": "python3"
  },
  "language_info": {
   "codemirror_mode": {
    "name": "ipython",
    "version": 3
   },
   "file_extension": ".py",
   "mimetype": "text/x-python",
   "name": "python",
   "nbconvert_exporter": "python",
   "pygments_lexer": "ipython3",
   "version": "3.12.3"
  }
 },
 "nbformat": 4,
 "nbformat_minor": 5
}
