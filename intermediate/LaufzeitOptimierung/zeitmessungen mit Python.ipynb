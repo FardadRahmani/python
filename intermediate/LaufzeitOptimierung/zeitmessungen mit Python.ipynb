{
 "cells": [
  {
   "cell_type": "code",
   "execution_count": 3,
   "id": "48a0cb98-1fb9-4402-8669-ae3ad5fd75a9",
   "metadata": {},
   "outputs": [],
   "source": [
    "from datetime import datetime"
   ]
  },
  {
   "cell_type": "code",
   "execution_count": 13,
   "id": "bd95655e-255d-4cc2-b542-94af365239f9",
   "metadata": {},
   "outputs": [
    {
     "name": "stdout",
     "output_type": "stream",
     "text": [
      "10000000\n",
      "0:00:01.487230\n"
     ]
    }
   ],
   "source": [
    "\n",
    "    \n",
    "\n",
    "start = datetime.now()\n",
    "\n",
    "s = 0\n",
    "for i in range(0, 10000000):\n",
    "    s = s + 1\n",
    "    \n",
    "print(s)\n",
    "\n",
    "end = datetime.now()\n",
    "\n",
    "print(end - start)"
   ]
  },
  {
   "cell_type": "code",
   "execution_count": 19,
   "id": "aebba2d2-3b9e-4408-818a-ff55f8fa3907",
   "metadata": {},
   "outputs": [
    {
     "name": "stdout",
     "output_type": "stream",
     "text": [
      "10000000\n",
      "0:00:00.945899\n"
     ]
    }
   ],
   "source": [
    "def inner():#in eriner Fkt zu bündeln ermöglich es Python schneller zu arbeiten\n",
    "    s = 0\n",
    "    for i in range(0, 10000000):\n",
    "        s = s + 1\n",
    "    print(s)\n",
    "\n",
    "start = datetime.now()\n",
    "\n",
    "inner()\n",
    "\n",
    "end = datetime.now()\n",
    "\n",
    "print(end - start)"
   ]
  },
  {
   "cell_type": "markdown",
   "id": "571d1890-c2db-4f16-bd72-280c5ca73920",
   "metadata": {},
   "source": [
    "## Zeitmessung mit Jupyter (`%%timeit`)"
   ]
  },
  {
   "cell_type": "code",
   "execution_count": 36,
   "id": "55fb546d-002e-47f4-8f14-4c6ddba27e31",
   "metadata": {},
   "outputs": [
    {
     "name": "stdout",
     "output_type": "stream",
     "text": [
      "10000000\n",
      "783 ms ± 0 ns per loop (mean ± std. dev. of 1 run, 1 loop each)\n"
     ]
    }
   ],
   "source": [
    "%%timeit -n1 -r1\n",
    "\n",
    "s = 0\n",
    "for i in range(0, 10000000):\n",
    "    s = s + 1\n",
    "print(s)"
   ]
  },
  {
   "cell_type": "code",
   "execution_count": 42,
   "id": "11aeb65f-ebc9-4635-a804-7e1a3791f95e",
   "metadata": {},
   "outputs": [
    {
     "name": "stdout",
     "output_type": "stream",
     "text": [
      "10000000\n",
      "10000000\n",
      "10000000\n",
      "10000000\n",
      "10000000\n",
      "10000000\n",
      "10000000\n",
      "10000000\n",
      "10000000\n",
      "10000000\n",
      "10000000\n",
      "10000000\n",
      "10000000\n",
      "10000000\n",
      "10000000\n",
      "10000000\n",
      "10000000\n",
      "10000000\n",
      "10000000\n",
      "10000000\n",
      "10000000\n",
      "10000000\n",
      "10000000\n",
      "10000000\n",
      "10000000\n",
      "10000000\n",
      "10000000\n",
      "10000000\n",
      "10000000\n",
      "10000000\n",
      "722 ms ± 86.9 ms per loop (mean ± std. dev. of 10 runs, 3 loops each)\n"
     ]
    }
   ],
   "source": [
    "%%timeit -n3 -r10 #führe 10 Messungen durch, messe jeweils 3mal das Programm (30mal ausgeführt!)\n",
    "\n",
    "s = 0\n",
    "for i in range(0, 10000000):\n",
    "    s = s + 1\n",
    "print(s)\n",
    "\n",
    "#timeit ist genauer als datetime.now wie man sieht"
   ]
  },
  {
   "cell_type": "code",
   "execution_count": null,
   "id": "e799cda4-f0db-4cfa-aca4-634ce76deb13",
   "metadata": {},
   "outputs": [],
   "source": []
  },
  {
   "cell_type": "code",
   "execution_count": null,
   "id": "e7c5b33f-744f-4d88-bafc-c756d17ec2ec",
   "metadata": {},
   "outputs": [],
   "source": []
  }
 ],
 "metadata": {
  "kernelspec": {
   "display_name": "Python 3 (ipykernel)",
   "language": "python",
   "name": "python3"
  },
  "language_info": {
   "codemirror_mode": {
    "name": "ipython",
    "version": 3
   },
   "file_extension": ".py",
   "mimetype": "text/x-python",
   "name": "python",
   "nbconvert_exporter": "python",
   "pygments_lexer": "ipython3",
   "version": "3.12.3"
  }
 },
 "nbformat": 4,
 "nbformat_minor": 5
}
