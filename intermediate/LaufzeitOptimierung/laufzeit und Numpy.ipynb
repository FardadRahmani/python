{
 "cells": [
  {
   "cell_type": "code",
   "execution_count": 1,
   "id": "cc50e52c-9b88-4ff9-947c-05ade70256c5",
   "metadata": {},
   "outputs": [],
   "source": [
    "import numpy as np\n",
    "import math\n",
    "\n",
    "# Anzahl der Einträge, die wir auswerten sollen\n",
    "N = 1000000\n",
    "\n",
    "# Liste mit 1 Mio. Einträgen, Zufallszahlen zwischen 0 und 1 (z.B. Messwerte)\n",
    "entries_np = np.random.random(N)"
   ]
  },
  {
   "cell_type": "code",
   "execution_count": 3,
   "id": "54158a9e-1f34-40df-af93-665061fee1c5",
   "metadata": {},
   "outputs": [
    {
     "data": {
      "text/plain": [
       "array([0.04266886, 0.79327709, 0.78993519, ..., 0.62091406, 0.04367886,\n",
       "       0.66711706])"
      ]
     },
     "execution_count": 3,
     "metadata": {},
     "output_type": "execute_result"
    }
   ],
   "source": [
    "entries_np"
   ]
  },
  {
   "cell_type": "markdown",
   "id": "6136fe9b-a688-4c98-a8ae-801afa71edb0",
   "metadata": {},
   "source": [
    "### Beispiel: Wurzel berechnen mit Python (for-Schleife)"
   ]
  },
  {
   "cell_type": "code",
   "execution_count": 13,
   "id": "f3cc641b-bad4-47be-a172-7082ead8d947",
   "metadata": {},
   "outputs": [],
   "source": [
    "entries = list(entries_np) #wandle es von np in normale python-List um!"
   ]
  },
  {
   "cell_type": "code",
   "execution_count": 48,
   "id": "403c23da-0235-4cfe-bbe5-0d0c1e5e5a4f",
   "metadata": {},
   "outputs": [
    {
     "name": "stdout",
     "output_type": "stream",
     "text": [
      "172 ms ± 13.4 ms per loop (mean ± std. dev. of 10 runs, 3 loops each)\n"
     ]
    }
   ],
   "source": [
    "%%timeit -n3 -r10\n",
    "out = []\n",
    "for entry in entries:\n",
    "    out.append(math.sqrt(entry)) #hier muss python jedes mal neu berechnen und checken: ganze oder bruchzahl oder......\n",
    "\n",
    "    \n",
    "                                #wir hätten auch über die np List iterieren können, wollen aber eine normale List bemessen"
   ]
  },
  {
   "cell_type": "code",
   "execution_count": null,
   "id": "4049b2c2-ec3d-468f-8259-97a7b7edf7c6",
   "metadata": {},
   "outputs": [],
   "source": []
  },
  {
   "cell_type": "markdown",
   "id": "ec5ce970-4ca4-4d1b-816b-c4f62fae5c00",
   "metadata": {},
   "source": [
    "### Beispiel: Wurzel berechnen mit Python (List-Comprehension)"
   ]
  },
  {
   "cell_type": "code",
   "execution_count": null,
   "id": "0cfdcd92-b93f-4a5b-bfa9-9a0a6f2cb57c",
   "metadata": {},
   "outputs": [],
   "source": []
  },
  {
   "cell_type": "code",
   "execution_count": 41,
   "id": "9915f031-a0bd-4211-bfb6-bf65e816179f",
   "metadata": {},
   "outputs": [
    {
     "name": "stdout",
     "output_type": "stream",
     "text": [
      "157 ms ± 9.71 ms per loop (mean ± std. dev. of 10 runs, 3 loops each)\n"
     ]
    }
   ],
   "source": [
    "%%timeit -n3 -r10\n",
    "out = [math.sqrt(entry) for entry in entries]  #performanter!"
   ]
  },
  {
   "cell_type": "code",
   "execution_count": null,
   "id": "8d39aee6-555c-4a59-aa48-4f39f7eb1b64",
   "metadata": {},
   "outputs": [],
   "source": []
  },
  {
   "cell_type": "markdown",
   "id": "f32d38ac-fc20-4f74-84b1-8031b873c5a9",
   "metadata": {},
   "source": [
    "### Beispiel: Wurzel berechnen mit Numpy"
   ]
  },
  {
   "cell_type": "code",
   "execution_count": null,
   "id": "7b620f05-dc13-495c-a6df-620891bbc020",
   "metadata": {},
   "outputs": [],
   "source": []
  },
  {
   "cell_type": "code",
   "execution_count": 52,
   "id": "556b4ccc-63fa-47f3-91f3-8e4a44210214",
   "metadata": {},
   "outputs": [
    {
     "name": "stdout",
     "output_type": "stream",
     "text": [
      "2.75 ms ± 409 μs per loop (mean ± std. dev. of 100 runs, 3 loops each)\n"
     ]
    }
   ],
   "source": [
    "%%timeit -n3 -r100\n",
    "out = np.sqrt(entries_np)   #hier checkt np nur einmal um welche zahlen es geht(ganze, bruch etc), daher soviel schneller\n",
    "                            #zudem durch sse fähig Programme durch Parallelisierung auf Instruktionslevel zu beschleunigen\n",
    "#viiiiel performanter!!!!!"
   ]
  },
  {
   "cell_type": "markdown",
   "id": "dff68989-f937-4d53-a361-66e35d2b2271",
   "metadata": {},
   "source": []
  },
  {
   "cell_type": "code",
   "execution_count": null,
   "id": "c68e6074-8eaf-4ce8-85d4-7f19026070f0",
   "metadata": {},
   "outputs": [],
   "source": []
  },
  {
   "cell_type": "code",
   "execution_count": null,
   "id": "b9fd490b-eed2-46e6-91cf-feef68a324a4",
   "metadata": {},
   "outputs": [],
   "source": []
  },
  {
   "cell_type": "code",
   "execution_count": null,
   "id": "8663680e-bd88-491d-8aee-3a544ec598b8",
   "metadata": {},
   "outputs": [],
   "source": []
  },
  {
   "cell_type": "code",
   "execution_count": null,
   "id": "8056468c-e25e-4df9-9542-f2b5a612b489",
   "metadata": {},
   "outputs": [],
   "source": []
  },
  {
   "cell_type": "code",
   "execution_count": null,
   "id": "f6258219-f49b-41ff-9c28-3716c9e74519",
   "metadata": {},
   "outputs": [],
   "source": []
  }
 ],
 "metadata": {
  "kernelspec": {
   "display_name": "Python 3 (ipykernel)",
   "language": "python",
   "name": "python3"
  },
  "language_info": {
   "codemirror_mode": {
    "name": "ipython",
    "version": 3
   },
   "file_extension": ".py",
   "mimetype": "text/x-python",
   "name": "python",
   "nbconvert_exporter": "python",
   "pygments_lexer": "ipython3",
   "version": "3.12.3"
  }
 },
 "nbformat": 4,
 "nbformat_minor": 5
}
