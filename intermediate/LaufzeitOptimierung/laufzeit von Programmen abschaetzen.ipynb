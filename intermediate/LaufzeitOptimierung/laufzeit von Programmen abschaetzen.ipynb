{
 "cells": [
  {
   "cell_type": "markdown",
   "id": "415b41a7-a8a1-4078-b169-5728a9a87475",
   "metadata": {},
   "source": [
    "## Zum Nachschlagen:\n",
    "\n",
    "https://wiki.python.org/moin/TimeComplexity"
   ]
  },
  {
   "cell_type": "code",
   "execution_count": null,
   "id": "c4f1b862-80ab-4272-8912-ddd5cfd3abbf",
   "metadata": {},
   "outputs": [],
   "source": []
  },
  {
   "cell_type": "code",
   "execution_count": 26,
   "id": "159bf8f0-fe6c-4350-99a9-5fce975ed49d",
   "metadata": {},
   "outputs": [
    {
     "name": "stdout",
     "output_type": "stream",
     "text": [
      "Max\n",
      "Erik\n",
      "Monika\n",
      "Tobias\n"
     ]
    }
   ],
   "source": [
    "def f(students): # O(n)\n",
    "    for student in students:\n",
    "        print(student)\n",
    "    \n",
    "s = [\"Max\", \"Erik\", \"Monika\", \"Tobias\"]\n",
    "f(s)"
   ]
  },
  {
   "cell_type": "code",
   "execution_count": null,
   "id": "d26e4058-9ee6-407b-bfc8-a5dcbe30f03a",
   "metadata": {},
   "outputs": [],
   "source": []
  },
  {
   "cell_type": "markdown",
   "id": "e0ddf91e-4613-4169-899f-c124dc4f5cb2",
   "metadata": {},
   "source": [
    "### Beispiel 2: Alle Studierenden sortieren und anschließend ausgeben"
   ]
  },
  {
   "cell_type": "code",
   "execution_count": 29,
   "id": "009a79ae-73b6-49de-9da6-321879a86939",
   "metadata": {},
   "outputs": [
    {
     "name": "stdout",
     "output_type": "stream",
     "text": [
      "Erik\n",
      "Max\n",
      "Monika\n",
      "Tobias\n"
     ]
    }
   ],
   "source": [
    "def f(students): # O(n*log(n))\n",
    "    students.sort() # O(n*log(n))\n",
    "    for student in students: # O(n)\n",
    "        print(student)\n",
    "    \n",
    "s = [\"Max\", \"Erik\", \"Monika\", \"Tobias\"]\n",
    "f(s)"
   ]
  },
  {
   "cell_type": "code",
   "execution_count": null,
   "id": "e49910bf-8bea-4ee0-b687-eeae6a8a8017",
   "metadata": {},
   "outputs": [],
   "source": []
  },
  {
   "cell_type": "markdown",
   "id": "02ddc182-665f-4ae2-b26d-8a90a9d56688",
   "metadata": {},
   "source": [
    "### Beispiel 3: Überprüfen, ob ein Studierender bei uns eingeschrieben ist (Liste):"
   ]
  },
  {
   "cell_type": "code",
   "execution_count": 76,
   "id": "e4c8894c-138e-4800-8566-fdef66dd6116",
   "metadata": {},
   "outputs": [
    {
     "name": "stdout",
     "output_type": "stream",
     "text": [
      "True\n"
     ]
    }
   ],
   "source": [
    "def f(students): # O(n)\n",
    "    print(\"Erik\" in students) # O(n)\n",
    "    \n",
    "s = [\"Max\", \"Erik\", \"Monika\", \"Tobias\"]\n",
    "f(s)\n",
    "\n",
    "\n",
    "#sprich:\n",
    "##1 Sekunde | 2 Sekunden für 8 Studierende | 4 Sekunden für 16 Studierende | 8 Sekunden für 32 Studierende "
   ]
  },
  {
   "cell_type": "code",
   "execution_count": null,
   "id": "065dd001-2f11-407e-b92d-27cd921d1196",
   "metadata": {},
   "outputs": [],
   "source": []
  },
  {
   "cell_type": "markdown",
   "id": "c34f9344-30d5-4fad-8f7f-0fb5e03b2ded",
   "metadata": {},
   "source": [
    "### Beispiel 4: Überprüfen, ob ein Studierender bei uns eingeschrieben ist (Set):"
   ]
  },
  {
   "cell_type": "code",
   "execution_count": 78,
   "id": "f4403c48-b46e-4240-b50c-39f1b625d920",
   "metadata": {},
   "outputs": [
    {
     "name": "stdout",
     "output_type": "stream",
     "text": [
      "True\n"
     ]
    }
   ],
   "source": [
    "def f(students): # O(1)\n",
    "    print(\"Erik\" in students) # O(1)\n",
    "    \n",
    "s = {\"Max\", \"Erik\", \"Monika\", \"Tobias\"}\n",
    "f(s)\n",
    "\n",
    "\n",
    "#sprich:\n",
    "##2 Sekunden | 2 Sekunden für 8 Studierende | 2 Sekunden für 16 Studierende | 2 Sekunden für 32 Studierende "
   ]
  },
  {
   "cell_type": "markdown",
   "id": "84da4ab8-a8e3-4be4-8e87-dcfebffce351",
   "metadata": {},
   "source": [
    "## Bei Unsicherheit lass dir die Ergebnisse plotten, zB:\n",
    "\n",
    "O(nxn) vs O(nxlog(n))\n",
    "\n",
    "O(nxlog(n)) besser, da kurve langsamer steigt als bei O(nxn)"
   ]
  },
  {
   "cell_type": "code",
   "execution_count": null,
   "id": "5547ad3e-c882-4873-b612-03569c39c41c",
   "metadata": {},
   "outputs": [],
   "source": []
  },
  {
   "cell_type": "code",
   "execution_count": null,
   "id": "3e75e970-6afb-410b-acef-d4ce2da44e7a",
   "metadata": {},
   "outputs": [],
   "source": []
  },
  {
   "cell_type": "code",
   "execution_count": null,
   "id": "7ba7794b-7012-4728-8935-3d26a332ec07",
   "metadata": {},
   "outputs": [],
   "source": []
  },
  {
   "cell_type": "code",
   "execution_count": null,
   "id": "3a73f3e8-2571-4825-88fd-50120e57311a",
   "metadata": {},
   "outputs": [],
   "source": []
  },
  {
   "cell_type": "code",
   "execution_count": null,
   "id": "0fcdfb56-f3a7-4616-a00a-f2f7a1fdb6a4",
   "metadata": {},
   "outputs": [],
   "source": []
  },
  {
   "cell_type": "code",
   "execution_count": null,
   "id": "7849bf38-fbdd-4733-893d-e887ab3e97eb",
   "metadata": {},
   "outputs": [],
   "source": []
  },
  {
   "cell_type": "code",
   "execution_count": null,
   "id": "4bc00628-6798-451b-9f89-587b3f9a6db2",
   "metadata": {},
   "outputs": [],
   "source": []
  },
  {
   "cell_type": "code",
   "execution_count": null,
   "id": "58e1adff-7d28-4495-adcd-c1f14e0369a4",
   "metadata": {},
   "outputs": [],
   "source": []
  },
  {
   "cell_type": "code",
   "execution_count": null,
   "id": "7ad3688d-cf6b-4516-b64d-bd41bcf54562",
   "metadata": {},
   "outputs": [],
   "source": []
  },
  {
   "cell_type": "code",
   "execution_count": null,
   "id": "9010ef92-6873-4ccf-af01-0d855c5a33d4",
   "metadata": {},
   "outputs": [],
   "source": []
  },
  {
   "cell_type": "code",
   "execution_count": null,
   "id": "4260519c-65d5-485c-9b1d-f551d973d5be",
   "metadata": {},
   "outputs": [],
   "source": []
  },
  {
   "cell_type": "code",
   "execution_count": null,
   "id": "150197dd-49ad-4852-bad6-54161237f963",
   "metadata": {},
   "outputs": [],
   "source": []
  },
  {
   "cell_type": "code",
   "execution_count": null,
   "id": "3131133c-1fa6-4a27-b9d7-3330a33de25f",
   "metadata": {},
   "outputs": [],
   "source": []
  },
  {
   "cell_type": "code",
   "execution_count": null,
   "id": "cfb5b953-46c5-498f-ab9e-3170b2c2fc13",
   "metadata": {},
   "outputs": [],
   "source": []
  },
  {
   "cell_type": "code",
   "execution_count": null,
   "id": "dc27ecf6-c2c7-4221-a432-3d6542970967",
   "metadata": {},
   "outputs": [],
   "source": []
  },
  {
   "cell_type": "code",
   "execution_count": null,
   "id": "de552384-7573-4af7-a2a8-eacc65cfd6ae",
   "metadata": {},
   "outputs": [],
   "source": []
  },
  {
   "cell_type": "code",
   "execution_count": null,
   "id": "99475c5e-9c8d-4849-9249-baac495cc6d2",
   "metadata": {},
   "outputs": [],
   "source": []
  },
  {
   "cell_type": "code",
   "execution_count": null,
   "id": "0a86c63f-235d-4490-b612-946dfad9a1ba",
   "metadata": {},
   "outputs": [],
   "source": []
  },
  {
   "cell_type": "code",
   "execution_count": null,
   "id": "1301bab6-0000-4c31-80cd-bce84cf7293b",
   "metadata": {},
   "outputs": [],
   "source": []
  },
  {
   "cell_type": "code",
   "execution_count": null,
   "id": "52018047-7580-4267-a102-5624e927a327",
   "metadata": {},
   "outputs": [],
   "source": []
  },
  {
   "cell_type": "code",
   "execution_count": null,
   "id": "fdd34b15-1185-41e3-8d26-065c5d0ad300",
   "metadata": {},
   "outputs": [],
   "source": []
  },
  {
   "cell_type": "code",
   "execution_count": null,
   "id": "6ca22d78-9cb3-4684-9938-4d64916ab431",
   "metadata": {},
   "outputs": [],
   "source": []
  },
  {
   "cell_type": "code",
   "execution_count": null,
   "id": "049afbc1-eb5d-45fd-a034-a79b6303a38b",
   "metadata": {},
   "outputs": [],
   "source": []
  },
  {
   "cell_type": "code",
   "execution_count": null,
   "id": "b1bcd567-ca25-4091-9848-bd0daf1c23e6",
   "metadata": {},
   "outputs": [],
   "source": []
  },
  {
   "cell_type": "code",
   "execution_count": null,
   "id": "97920f54-9a16-4098-969f-898516fe8a7c",
   "metadata": {},
   "outputs": [],
   "source": []
  },
  {
   "cell_type": "code",
   "execution_count": null,
   "id": "bd46c87b-8142-47b4-9221-8a96e8c4b575",
   "metadata": {},
   "outputs": [],
   "source": []
  }
 ],
 "metadata": {
  "kernelspec": {
   "display_name": "Python 3 (ipykernel)",
   "language": "python",
   "name": "python3"
  },
  "language_info": {
   "codemirror_mode": {
    "name": "ipython",
    "version": 3
   },
   "file_extension": ".py",
   "mimetype": "text/x-python",
   "name": "python",
   "nbconvert_exporter": "python",
   "pygments_lexer": "ipython3",
   "version": "3.12.3"
  }
 },
 "nbformat": 4,
 "nbformat_minor": 5
}
